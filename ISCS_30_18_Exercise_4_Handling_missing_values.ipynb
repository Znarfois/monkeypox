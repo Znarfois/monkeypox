{
  "nbformat": 4,
  "nbformat_minor": 0,
  "metadata": {
    "colab": {
      "provenance": [],
      "collapsed_sections": [
        "gJU2-wTFEEKB"
      ]
    },
    "kernelspec": {
      "name": "python3",
      "display_name": "Python 3"
    },
    "language_info": {
      "name": "python"
    }
  },
  "cells": [
    {
      "cell_type": "markdown",
      "source": [
        "# ISCS 30.18 Exercise 3 - Data Cleaning\n",
        "\n",
        "`Group: JM Amador, Jet Bana, Gio Divino, Sid Vincent Paz, Franz Taborlupa`\n",
        "\n",
        "##Steps taken for cleaning:\n",
        "* Changed the data type of all columns containing dates from object to datetime64\n",
        "* Fixed the inconsistent capitalization of the Gender column\n",
        "* Dropped irrelevant columns Source and Source_II since these contain links irrelevant to the problem\n",
        "* Fixed stray values for the Travel_history_location and Confirmation_method columns since some values have the same meaning but are written differently\n",
        "* Fixed separation format for for Travel_history_country\n",
        "* Fixed stray values in Travel_history_entry column and converted the data type to datetime64"
      ],
      "metadata": {
        "id": "86PpDeOvmlfX"
      }
    },
    {
      "cell_type": "code",
      "execution_count": null,
      "metadata": {
        "id": "pIRptb1VWLyx"
      },
      "outputs": [],
      "source": [
        "import pandas as pd\n",
        "import numpy as np\n",
        "\n",
        "df = pd.read_csv('data.csv')\n",
        "pd.set_option('display.max_columns', None)"
      ]
    },
    {
      "cell_type": "code",
      "source": [
        "df.head(3) # check the dataset and how it looks"
      ],
      "metadata": {
        "colab": {
          "base_uri": "https://localhost:8080/"
        },
        "id": "agA8XvJMZ9ru",
        "outputId": "ffe7c706-e4f4-4aeb-c7a2-51db7c78c62d"
      },
      "execution_count": null,
      "outputs": [
        {
          "output_type": "execute_result",
          "data": {
            "text/plain": [
              "   ID     Status                             Location    City  Country  Age  \\\n",
              "0   1  confirmed  Guy's and St Thomas Hospital London  London  England  NaN   \n",
              "1   2  confirmed  Guy's and St Thomas Hospital London  London  England  NaN   \n",
              "2   3  confirmed                               London  London  England  NaN   \n",
              "\n",
              "  Gender  Date_onset Date_confirmation        Symptoms Hospitalised (Y/N/NA)  \\\n",
              "0    NaN  2022-04-29        2022-05-06            rash                     Y   \n",
              "1    NaN  2022-05-05        2022-05-12            rash                     Y   \n",
              "2    NaN  2022-04-30        2022-05-13  vesicular rash                     N   \n",
              "\n",
              "  Date_hospitalisation Isolated (Y/N/NA) Date_isolation Outcome Date_death  \\\n",
              "0           2022-05-04                 Y     2022-05-04     NaN        NaN   \n",
              "1           2022-05-06                 Y     2022-05-09     NaN        NaN   \n",
              "2                  NaN                 Y            NaN     NaN        NaN   \n",
              "\n",
              "                   Contact_comment  Contact_ID Contact_location  \\\n",
              "0                              NaN         NaN              NaN   \n",
              "1  Index Case of household cluster         3.0        Household   \n",
              "2                              NaN         2.0        Household   \n",
              "\n",
              "  Travel_history (Y/N/NA) Travel_history_entry Travel_history_start  \\\n",
              "0                       Y           2022-05-04           late April   \n",
              "1                       N                  NaN                  NaN   \n",
              "2                       N                  NaN                  NaN   \n",
              "\n",
              "  Travel_history_location Travel_history_country   Genomics_Metadata  \\\n",
              "0  Lagos and Delta States                Nigeria  West African Clade   \n",
              "1                     NaN                    NaN  West African Clade   \n",
              "2                     NaN                    NaN  West African Clade   \n",
              "\n",
              "  Confirmation_method                                             Source  \\\n",
              "0              RT-PCR  https://www.gov.uk/government/news/monkeypox-c...   \n",
              "1              RT-PCR  https://www.gov.uk/government/news/monkeypox-c...   \n",
              "2              RT-PCR  https://www.gov.uk/government/news/monkeypox-c...   \n",
              "\n",
              "                                           Source_II  Date_entry  \\\n",
              "0  https://www.who.int/emergencies/disease-outbre...  2022-05-18   \n",
              "1                                                NaN  2022-05-18   \n",
              "2                                                NaN  2022-05-18   \n",
              "\n",
              "  Date_last_modified  \n",
              "0         2022-05-18  \n",
              "1         2022-05-18  \n",
              "2         2022-05-18  "
            ],
            "text/html": [
              "\n",
              "  <div id=\"df-e22c3124-688b-43bd-b090-22fb1d172570\">\n",
              "    <div class=\"colab-df-container\">\n",
              "      <div>\n",
              "<style scoped>\n",
              "    .dataframe tbody tr th:only-of-type {\n",
              "        vertical-align: middle;\n",
              "    }\n",
              "\n",
              "    .dataframe tbody tr th {\n",
              "        vertical-align: top;\n",
              "    }\n",
              "\n",
              "    .dataframe thead th {\n",
              "        text-align: right;\n",
              "    }\n",
              "</style>\n",
              "<table border=\"1\" class=\"dataframe\">\n",
              "  <thead>\n",
              "    <tr style=\"text-align: right;\">\n",
              "      <th></th>\n",
              "      <th>ID</th>\n",
              "      <th>Status</th>\n",
              "      <th>Location</th>\n",
              "      <th>City</th>\n",
              "      <th>Country</th>\n",
              "      <th>Age</th>\n",
              "      <th>Gender</th>\n",
              "      <th>Date_onset</th>\n",
              "      <th>Date_confirmation</th>\n",
              "      <th>Symptoms</th>\n",
              "      <th>Hospitalised (Y/N/NA)</th>\n",
              "      <th>Date_hospitalisation</th>\n",
              "      <th>Isolated (Y/N/NA)</th>\n",
              "      <th>Date_isolation</th>\n",
              "      <th>Outcome</th>\n",
              "      <th>Date_death</th>\n",
              "      <th>Contact_comment</th>\n",
              "      <th>Contact_ID</th>\n",
              "      <th>Contact_location</th>\n",
              "      <th>Travel_history (Y/N/NA)</th>\n",
              "      <th>Travel_history_entry</th>\n",
              "      <th>Travel_history_start</th>\n",
              "      <th>Travel_history_location</th>\n",
              "      <th>Travel_history_country</th>\n",
              "      <th>Genomics_Metadata</th>\n",
              "      <th>Confirmation_method</th>\n",
              "      <th>Source</th>\n",
              "      <th>Source_II</th>\n",
              "      <th>Date_entry</th>\n",
              "      <th>Date_last_modified</th>\n",
              "    </tr>\n",
              "  </thead>\n",
              "  <tbody>\n",
              "    <tr>\n",
              "      <th>0</th>\n",
              "      <td>1</td>\n",
              "      <td>confirmed</td>\n",
              "      <td>Guy's and St Thomas Hospital London</td>\n",
              "      <td>London</td>\n",
              "      <td>England</td>\n",
              "      <td>NaN</td>\n",
              "      <td>NaN</td>\n",
              "      <td>2022-04-29</td>\n",
              "      <td>2022-05-06</td>\n",
              "      <td>rash</td>\n",
              "      <td>Y</td>\n",
              "      <td>2022-05-04</td>\n",
              "      <td>Y</td>\n",
              "      <td>2022-05-04</td>\n",
              "      <td>NaN</td>\n",
              "      <td>NaN</td>\n",
              "      <td>NaN</td>\n",
              "      <td>NaN</td>\n",
              "      <td>NaN</td>\n",
              "      <td>Y</td>\n",
              "      <td>2022-05-04</td>\n",
              "      <td>late April</td>\n",
              "      <td>Lagos and Delta States</td>\n",
              "      <td>Nigeria</td>\n",
              "      <td>West African Clade</td>\n",
              "      <td>RT-PCR</td>\n",
              "      <td>https://www.gov.uk/government/news/monkeypox-c...</td>\n",
              "      <td>https://www.who.int/emergencies/disease-outbre...</td>\n",
              "      <td>2022-05-18</td>\n",
              "      <td>2022-05-18</td>\n",
              "    </tr>\n",
              "    <tr>\n",
              "      <th>1</th>\n",
              "      <td>2</td>\n",
              "      <td>confirmed</td>\n",
              "      <td>Guy's and St Thomas Hospital London</td>\n",
              "      <td>London</td>\n",
              "      <td>England</td>\n",
              "      <td>NaN</td>\n",
              "      <td>NaN</td>\n",
              "      <td>2022-05-05</td>\n",
              "      <td>2022-05-12</td>\n",
              "      <td>rash</td>\n",
              "      <td>Y</td>\n",
              "      <td>2022-05-06</td>\n",
              "      <td>Y</td>\n",
              "      <td>2022-05-09</td>\n",
              "      <td>NaN</td>\n",
              "      <td>NaN</td>\n",
              "      <td>Index Case of household cluster</td>\n",
              "      <td>3.0</td>\n",
              "      <td>Household</td>\n",
              "      <td>N</td>\n",
              "      <td>NaN</td>\n",
              "      <td>NaN</td>\n",
              "      <td>NaN</td>\n",
              "      <td>NaN</td>\n",
              "      <td>West African Clade</td>\n",
              "      <td>RT-PCR</td>\n",
              "      <td>https://www.gov.uk/government/news/monkeypox-c...</td>\n",
              "      <td>NaN</td>\n",
              "      <td>2022-05-18</td>\n",
              "      <td>2022-05-18</td>\n",
              "    </tr>\n",
              "    <tr>\n",
              "      <th>2</th>\n",
              "      <td>3</td>\n",
              "      <td>confirmed</td>\n",
              "      <td>London</td>\n",
              "      <td>London</td>\n",
              "      <td>England</td>\n",
              "      <td>NaN</td>\n",
              "      <td>NaN</td>\n",
              "      <td>2022-04-30</td>\n",
              "      <td>2022-05-13</td>\n",
              "      <td>vesicular rash</td>\n",
              "      <td>N</td>\n",
              "      <td>NaN</td>\n",
              "      <td>Y</td>\n",
              "      <td>NaN</td>\n",
              "      <td>NaN</td>\n",
              "      <td>NaN</td>\n",
              "      <td>NaN</td>\n",
              "      <td>2.0</td>\n",
              "      <td>Household</td>\n",
              "      <td>N</td>\n",
              "      <td>NaN</td>\n",
              "      <td>NaN</td>\n",
              "      <td>NaN</td>\n",
              "      <td>NaN</td>\n",
              "      <td>West African Clade</td>\n",
              "      <td>RT-PCR</td>\n",
              "      <td>https://www.gov.uk/government/news/monkeypox-c...</td>\n",
              "      <td>NaN</td>\n",
              "      <td>2022-05-18</td>\n",
              "      <td>2022-05-18</td>\n",
              "    </tr>\n",
              "  </tbody>\n",
              "</table>\n",
              "</div>\n",
              "      <button class=\"colab-df-convert\" onclick=\"convertToInteractive('df-e22c3124-688b-43bd-b090-22fb1d172570')\"\n",
              "              title=\"Convert this dataframe to an interactive table.\"\n",
              "              style=\"display:none;\">\n",
              "        \n",
              "  <svg xmlns=\"http://www.w3.org/2000/svg\" height=\"24px\"viewBox=\"0 0 24 24\"\n",
              "       width=\"24px\">\n",
              "    <path d=\"M0 0h24v24H0V0z\" fill=\"none\"/>\n",
              "    <path d=\"M18.56 5.44l.94 2.06.94-2.06 2.06-.94-2.06-.94-.94-2.06-.94 2.06-2.06.94zm-11 1L8.5 8.5l.94-2.06 2.06-.94-2.06-.94L8.5 2.5l-.94 2.06-2.06.94zm10 10l.94 2.06.94-2.06 2.06-.94-2.06-.94-.94-2.06-.94 2.06-2.06.94z\"/><path d=\"M17.41 7.96l-1.37-1.37c-.4-.4-.92-.59-1.43-.59-.52 0-1.04.2-1.43.59L10.3 9.45l-7.72 7.72c-.78.78-.78 2.05 0 2.83L4 21.41c.39.39.9.59 1.41.59.51 0 1.02-.2 1.41-.59l7.78-7.78 2.81-2.81c.8-.78.8-2.07 0-2.86zM5.41 20L4 18.59l7.72-7.72 1.47 1.35L5.41 20z\"/>\n",
              "  </svg>\n",
              "      </button>\n",
              "      \n",
              "  <style>\n",
              "    .colab-df-container {\n",
              "      display:flex;\n",
              "      flex-wrap:wrap;\n",
              "      gap: 12px;\n",
              "    }\n",
              "\n",
              "    .colab-df-convert {\n",
              "      background-color: #E8F0FE;\n",
              "      border: none;\n",
              "      border-radius: 50%;\n",
              "      cursor: pointer;\n",
              "      display: none;\n",
              "      fill: #1967D2;\n",
              "      height: 32px;\n",
              "      padding: 0 0 0 0;\n",
              "      width: 32px;\n",
              "    }\n",
              "\n",
              "    .colab-df-convert:hover {\n",
              "      background-color: #E2EBFA;\n",
              "      box-shadow: 0px 1px 2px rgba(60, 64, 67, 0.3), 0px 1px 3px 1px rgba(60, 64, 67, 0.15);\n",
              "      fill: #174EA6;\n",
              "    }\n",
              "\n",
              "    [theme=dark] .colab-df-convert {\n",
              "      background-color: #3B4455;\n",
              "      fill: #D2E3FC;\n",
              "    }\n",
              "\n",
              "    [theme=dark] .colab-df-convert:hover {\n",
              "      background-color: #434B5C;\n",
              "      box-shadow: 0px 1px 3px 1px rgba(0, 0, 0, 0.15);\n",
              "      filter: drop-shadow(0px 1px 2px rgba(0, 0, 0, 0.3));\n",
              "      fill: #FFFFFF;\n",
              "    }\n",
              "  </style>\n",
              "\n",
              "      <script>\n",
              "        const buttonEl =\n",
              "          document.querySelector('#df-e22c3124-688b-43bd-b090-22fb1d172570 button.colab-df-convert');\n",
              "        buttonEl.style.display =\n",
              "          google.colab.kernel.accessAllowed ? 'block' : 'none';\n",
              "\n",
              "        async function convertToInteractive(key) {\n",
              "          const element = document.querySelector('#df-e22c3124-688b-43bd-b090-22fb1d172570');\n",
              "          const dataTable =\n",
              "            await google.colab.kernel.invokeFunction('convertToInteractive',\n",
              "                                                     [key], {});\n",
              "          if (!dataTable) return;\n",
              "\n",
              "          const docLinkHtml = 'Like what you see? Visit the ' +\n",
              "            '<a target=\"_blank\" href=https://colab.research.google.com/notebooks/data_table.ipynb>data table notebook</a>'\n",
              "            + ' to learn more about interactive tables.';\n",
              "          element.innerHTML = '';\n",
              "          dataTable['output_type'] = 'display_data';\n",
              "          await google.colab.output.renderOutput(dataTable, element);\n",
              "          const docLink = document.createElement('div');\n",
              "          docLink.innerHTML = docLinkHtml;\n",
              "          element.appendChild(docLink);\n",
              "        }\n",
              "      </script>\n",
              "    </div>\n",
              "  </div>\n",
              "  "
            ]
          },
          "metadata": {},
          "execution_count": 48
        }
      ]
    },
    {
      "cell_type": "code",
      "source": [
        "df.info() \n",
        "\n",
        "# Seeing lots of null values but there is a certain level of uncertainty with this virus and data gathering due to the nature of the disease. \n",
        "# Dropping rows with null values eliminates highly valuable data seen elsewhere in the row therefore we decided to retain all null values"
      ],
      "metadata": {
        "colab": {
          "base_uri": "https://localhost:8080/"
        },
        "id": "bLpnBPKWZ0He",
        "outputId": "8b17abf7-d3f2-4ae5-9924-acf9df2fe11c"
      },
      "execution_count": null,
      "outputs": [
        {
          "output_type": "stream",
          "name": "stdout",
          "text": [
            "<class 'pandas.core.frame.DataFrame'>\n",
            "RangeIndex: 65777 entries, 0 to 65776\n",
            "Data columns (total 30 columns):\n",
            " #   Column                   Non-Null Count  Dtype  \n",
            "---  ------                   --------------  -----  \n",
            " 0   ID                       65777 non-null  int64  \n",
            " 1   Status                   65777 non-null  object \n",
            " 2   Location                 51672 non-null  object \n",
            " 3   City                     1383 non-null   object \n",
            " 4   Country                  65777 non-null  object \n",
            " 5   Age                      2988 non-null   object \n",
            " 6   Gender                   2473 non-null   object \n",
            " 7   Date_onset               77 non-null     object \n",
            " 8   Date_confirmation        65053 non-null  object \n",
            " 9   Symptoms                 220 non-null    object \n",
            " 10  Hospitalised (Y/N/NA)    354 non-null    object \n",
            " 11  Date_hospitalisation     35 non-null     object \n",
            " 12  Isolated (Y/N/NA)        492 non-null    object \n",
            " 13  Date_isolation           16 non-null     object \n",
            " 14  Outcome                  25 non-null     object \n",
            " 15  Date_death               20 non-null     object \n",
            " 16  Contact_comment          91 non-null     object \n",
            " 17  Contact_ID               27 non-null     float64\n",
            " 18  Contact_location         6 non-null      object \n",
            " 19  Travel_history (Y/N/NA)  365 non-null    object \n",
            " 20  Travel_history_entry     42 non-null     object \n",
            " 21  Travel_history_start     11 non-null     object \n",
            " 22  Travel_history_location  114 non-null    object \n",
            " 23  Travel_history_country   99 non-null     object \n",
            " 24  Genomics_Metadata        24 non-null     object \n",
            " 25  Confirmation_method      100 non-null    object \n",
            " 26  Source                   65777 non-null  object \n",
            " 27  Source_II                8132 non-null   object \n",
            " 28  Date_entry               65777 non-null  object \n",
            " 29  Date_last_modified       55777 non-null  object \n",
            "dtypes: float64(1), int64(1), object(28)\n",
            "memory usage: 15.1+ MB\n"
          ]
        }
      ]
    },
    {
      "cell_type": "markdown",
      "source": [
        "## Listing down of issues with the dataset that need to be cleaned"
      ],
      "metadata": {
        "id": "2ZZzxdkEmXnr"
      }
    },
    {
      "cell_type": "code",
      "source": [
        "# Inconsistent capitalization of \"Gender\" column\n",
        "print('Gender:')\n",
        "print(df.Gender.value_counts())\n",
        "\n",
        "# Dates are in string form, not datetime\n",
        "print(f'\\nDate_onset:  {type(df.Date_onset.iloc[0])}')\n",
        "print(f'Date_confirmation:  {type(df.Date_confirmation.iloc[0])}')\n",
        "print(f'Date_hospitalisation:  {type(df.Date_hospitalisation.iloc[0])}')\n",
        "print(f'Date_isolation:  {type(df.Date_isolation.iloc[0])}')\n",
        "print(f'Date_death:  {type(df.Date_death.iloc[13204])}')\n",
        "print(f'Date_entry:  {type(df.Date_entry.iloc[0])}')\n",
        "print(f'Date_last_modified:  {type(df.Date_last_modified.iloc[0])}')\n",
        "\n",
        "# Columns with semantics\n",
        "print('Symptoms')\n",
        "print('Contact_comment')\n",
        "\n",
        "# Columns with inconsistent data\n",
        "print('Travel_history_entry') # Inconsistent data type\n",
        "print('Travel_history_start') # Inconsistent data type\n",
        "print('Travel_history_location') # Contains sentences\n",
        "print('Travel_history_country') # Contains sentences\n",
        "print('Confirmation_method') # Contains sentences\n",
        "\n",
        "# Unknown columns - idk what the purpose is\n",
        "print('Genomics_Metadata') #i think this is important for treatment kasi and tracing where infections occured - franz\n",
        "print('Source') #kinda weird nga for analysis, not super impt for us so I suggest to drop\n",
        "print('Source_II') #kinda weird nga for analysis, not super impt for us so I suggest to drop"
      ],
      "metadata": {
        "colab": {
          "base_uri": "https://localhost:8080/"
        },
        "id": "x__a0j_kbyoy",
        "outputId": "2a145f71-5a32-4562-e87f-fbee1ea86972"
      },
      "execution_count": null,
      "outputs": [
        {
          "output_type": "stream",
          "name": "stdout",
          "text": [
            "Gender:\n",
            "male       2420\n",
            "female       31\n",
            "Male         15\n",
            "male          5\n",
            "female        1\n",
            "Female        1\n",
            "Name: Gender, dtype: int64\n",
            "\n",
            "Date_onset:  <class 'str'>\n",
            "Date_confirmation:  <class 'str'>\n",
            "Date_hospitalisation:  <class 'str'>\n",
            "Date_isolation:  <class 'str'>\n",
            "Date_death:  <class 'str'>\n",
            "Date_entry:  <class 'str'>\n",
            "Date_last_modified:  <class 'str'>\n",
            "Symptoms\n",
            "Contact_comment\n",
            "Travel_history_entry\n",
            "Travel_history_start\n",
            "Travel_history_location\n",
            "Travel_history_country\n",
            "Confirmation_method\n",
            "Genomics_Metadata\n",
            "Source\n",
            "Source_II\n"
          ]
        }
      ]
    },
    {
      "cell_type": "code",
      "source": [
        "df['Genomics_Metadata'].value_counts() # fix capital letters to get rid of duplicates when aggregating\n",
        "# retained links as they lead to relevant information regarding different genomics of the Monkeypox virus"
      ],
      "metadata": {
        "colab": {
          "base_uri": "https://localhost:8080/"
        },
        "id": "Hf0YdZU4ehRp",
        "outputId": "0f5a206a-1518-40c3-dd19-8627acfaddea"
      },
      "execution_count": null,
      "outputs": [
        {
          "output_type": "execute_result",
          "data": {
            "text/plain": [
              "West African Clade                                                                                                                           13\n",
              "West African clade                                                                                                                            2\n",
              "https://www.ncbi.nlm.nih.gov/nuccore/ON563414                                                                                                 1\n",
              "Genomic sequence                                                                                                                              1\n",
              "https://www.ncbi.nlm.nih.gov/nuccore/ON631963.1/                                                                                              1\n",
              "https://virological.org/t/first-german-genome-sequence-of-monkeypox-virus-associated-to-multi-country-outbreak-in-may-2022/812#post_1         1\n",
              "https://www.argentina.gob.ar/noticias/salud-informa-que-el-resultado-de-la-muestra-pcr-tomada-por-anlis-malbran-al-primer-caso                1\n",
              "https://virological.org/t/illumina-whole-genome-sequence-of-monkeypox-virus-in-a-patient-travelling-from-the-canary-islands-to-france/829     1\n",
              "https://virological.org/t/first-french-draft-genome-sequence-of-monkeypox-virus-may-2022/819#post_1                                           1\n",
              "https://mpox-lapis.gen-spectrum.org/v1/sample/fasta?strain=mpx-37-Finland_consensus                                                           1\n",
              "https://virological.org/t/first-monkeypox-virus-genome-sequence-from-brazil/850                                                               1\n",
              "Name: Genomics_Metadata, dtype: int64"
            ]
          },
          "metadata": {},
          "execution_count": 51
        }
      ]
    },
    {
      "cell_type": "markdown",
      "source": [
        "## Cleaning"
      ],
      "metadata": {
        "id": "gJU2-wTFEEKB"
      }
    },
    {
      "cell_type": "markdown",
      "source": [
        "### Datetime\n"
      ],
      "metadata": {
        "id": "4XP4QkSzg4b8"
      }
    },
    {
      "cell_type": "code",
      "source": [
        "# Listing all values that should be converted to datetime\n",
        "# Iterate through all the columns and use the .to_datetime() of pandas to convert it to datetime type\n",
        "dates = ['Date_onset', 'Date_confirmation', 'Date_hospitalisation', 'Date_isolation', 'Date_death', 'Date_entry', 'Date_last_modified']\n",
        "for x in dates:\n",
        "    df[x] = pd.to_datetime(df[x])\n"
      ],
      "metadata": {
        "id": "2fRmw4fLDlqM"
      },
      "execution_count": null,
      "outputs": []
    },
    {
      "cell_type": "code",
      "source": [
        "df.info() #check if transformation worked"
      ],
      "metadata": {
        "colab": {
          "base_uri": "https://localhost:8080/"
        },
        "id": "od0Y_zRpYWvM",
        "outputId": "77a68d0e-cf61-4a99-f593-4177eb890372"
      },
      "execution_count": null,
      "outputs": [
        {
          "output_type": "stream",
          "name": "stdout",
          "text": [
            "<class 'pandas.core.frame.DataFrame'>\n",
            "RangeIndex: 65777 entries, 0 to 65776\n",
            "Data columns (total 30 columns):\n",
            " #   Column                   Non-Null Count  Dtype         \n",
            "---  ------                   --------------  -----         \n",
            " 0   ID                       65777 non-null  int64         \n",
            " 1   Status                   65777 non-null  object        \n",
            " 2   Location                 51672 non-null  object        \n",
            " 3   City                     1383 non-null   object        \n",
            " 4   Country                  65777 non-null  object        \n",
            " 5   Age                      2988 non-null   object        \n",
            " 6   Gender                   2473 non-null   object        \n",
            " 7   Date_onset               77 non-null     datetime64[ns]\n",
            " 8   Date_confirmation        65053 non-null  datetime64[ns]\n",
            " 9   Symptoms                 220 non-null    object        \n",
            " 10  Hospitalised (Y/N/NA)    354 non-null    object        \n",
            " 11  Date_hospitalisation     35 non-null     datetime64[ns]\n",
            " 12  Isolated (Y/N/NA)        492 non-null    object        \n",
            " 13  Date_isolation           16 non-null     datetime64[ns]\n",
            " 14  Outcome                  25 non-null     object        \n",
            " 15  Date_death               20 non-null     datetime64[ns]\n",
            " 16  Contact_comment          91 non-null     object        \n",
            " 17  Contact_ID               27 non-null     float64       \n",
            " 18  Contact_location         6 non-null      object        \n",
            " 19  Travel_history (Y/N/NA)  365 non-null    object        \n",
            " 20  Travel_history_entry     42 non-null     object        \n",
            " 21  Travel_history_start     11 non-null     object        \n",
            " 22  Travel_history_location  114 non-null    object        \n",
            " 23  Travel_history_country   99 non-null     object        \n",
            " 24  Genomics_Metadata        24 non-null     object        \n",
            " 25  Confirmation_method      100 non-null    object        \n",
            " 26  Source                   65777 non-null  object        \n",
            " 27  Source_II                8132 non-null   object        \n",
            " 28  Date_entry               65777 non-null  datetime64[ns]\n",
            " 29  Date_last_modified       55777 non-null  datetime64[ns]\n",
            "dtypes: datetime64[ns](7), float64(1), int64(1), object(21)\n",
            "memory usage: 15.1+ MB\n"
          ]
        }
      ]
    },
    {
      "cell_type": "markdown",
      "source": [
        "### Fix capitals"
      ],
      "metadata": {
        "id": "28q2yczzE1ii"
      }
    },
    {
      "cell_type": "code",
      "source": [
        "# Removing whitespace and changing the capitalisation of letters in columns that had duplicates due to different ways of typing\n",
        "df['Gender'] = df['Gender'].apply(lambda x : str(x).lower().strip()) "
      ],
      "metadata": {
        "id": "COMy3oj4EEtj"
      },
      "execution_count": null,
      "outputs": []
    },
    {
      "cell_type": "code",
      "source": [
        "df['Gender'].value_counts()"
      ],
      "metadata": {
        "colab": {
          "base_uri": "https://localhost:8080/"
        },
        "id": "qY3UascOEwKU",
        "outputId": "aaeecdbf-b0f0-484f-ea01-66fe69daecc6"
      },
      "execution_count": null,
      "outputs": [
        {
          "output_type": "execute_result",
          "data": {
            "text/plain": [
              "nan       63304\n",
              "male       2440\n",
              "female       33\n",
              "Name: Gender, dtype: int64"
            ]
          },
          "metadata": {},
          "execution_count": 55
        }
      ]
    },
    {
      "cell_type": "code",
      "source": [
        "df['Genomics_Metadata'].apply(lambda x : str(x).lower().strip()).value_counts()"
      ],
      "metadata": {
        "colab": {
          "base_uri": "https://localhost:8080/"
        },
        "id": "gZ_-Sh2FE5AS",
        "outputId": "12abfdb6-273c-459a-9143-a5ebeda6099c"
      },
      "execution_count": null,
      "outputs": [
        {
          "output_type": "execute_result",
          "data": {
            "text/plain": [
              "nan                                                                                                                                          65753\n",
              "west african clade                                                                                                                              15\n",
              "https://www.ncbi.nlm.nih.gov/nuccore/on563414                                                                                                    1\n",
              "genomic sequence                                                                                                                                 1\n",
              "https://www.ncbi.nlm.nih.gov/nuccore/on631963.1/                                                                                                 1\n",
              "https://virological.org/t/first-german-genome-sequence-of-monkeypox-virus-associated-to-multi-country-outbreak-in-may-2022/812#post_1            1\n",
              "https://www.argentina.gob.ar/noticias/salud-informa-que-el-resultado-de-la-muestra-pcr-tomada-por-anlis-malbran-al-primer-caso                   1\n",
              "https://virological.org/t/illumina-whole-genome-sequence-of-monkeypox-virus-in-a-patient-travelling-from-the-canary-islands-to-france/829        1\n",
              "https://virological.org/t/first-french-draft-genome-sequence-of-monkeypox-virus-may-2022/819#post_1                                              1\n",
              "https://mpox-lapis.gen-spectrum.org/v1/sample/fasta?strain=mpx-37-finland_consensus                                                              1\n",
              "https://virological.org/t/first-monkeypox-virus-genome-sequence-from-brazil/850                                                                  1\n",
              "Name: Genomics_Metadata, dtype: int64"
            ]
          },
          "metadata": {},
          "execution_count": 56
        }
      ]
    },
    {
      "cell_type": "markdown",
      "source": [
        "### Dropping irrelevant columns"
      ],
      "metadata": {
        "id": "Y3yh_BQaZpA9"
      }
    },
    {
      "cell_type": "code",
      "source": [
        "# dropping columns that aren't too relevant for analysis in this case\n",
        "df.drop(['Source', 'Source_II'], axis=1, inplace=True)"
      ],
      "metadata": {
        "id": "cbr1ZFV0EHhG"
      },
      "execution_count": null,
      "outputs": []
    },
    {
      "cell_type": "code",
      "source": [
        "df"
      ],
      "metadata": {
        "colab": {
          "base_uri": "https://localhost:8080/"
        },
        "id": "mJ1qyzqGaEjn",
        "outputId": "4dd4dcc0-c6af-47c0-ee4c-58b1a82454ee"
      },
      "execution_count": null,
      "outputs": [
        {
          "output_type": "execute_result",
          "data": {
            "text/plain": [
              "          ID     Status                             Location    City  \\\n",
              "0          1  confirmed  Guy's and St Thomas Hospital London  London   \n",
              "1          2  confirmed  Guy's and St Thomas Hospital London  London   \n",
              "2          3  confirmed                               London  London   \n",
              "3          4  confirmed                               London  London   \n",
              "4          5  confirmed                               London  London   \n",
              "...      ...        ...                                  ...     ...   \n",
              "65772  65773  confirmed                             Santa Fe     NaN   \n",
              "65773  65774  confirmed                     Tierra del Fuego     NaN   \n",
              "65774  65775  confirmed                                  NaN     NaN   \n",
              "65775  65776  confirmed                                  NaN     NaN   \n",
              "65776  65777  confirmed                                  NaN     NaN   \n",
              "\n",
              "           Country  Age Gender Date_onset Date_confirmation        Symptoms  \\\n",
              "0          England  NaN    nan 2022-04-29        2022-05-06            rash   \n",
              "1          England  NaN    nan 2022-05-05        2022-05-12            rash   \n",
              "2          England  NaN    nan 2022-04-30        2022-05-13  vesicular rash   \n",
              "3          England  NaN   male        NaT        2022-05-15  vesicular rash   \n",
              "4          England  NaN   male        NaT        2022-05-15  vesicular rash   \n",
              "...            ...  ...    ...        ...               ...             ...   \n",
              "65772    Argentina  NaN    nan        NaT        2022-09-20             NaN   \n",
              "65773    Argentina  NaN    nan        NaT        2022-09-20             NaN   \n",
              "65774  Puerto Rico  NaN    nan        NaT        2022-09-22             NaN   \n",
              "65775  Puerto Rico  NaN    nan        NaT        2022-09-22             NaN   \n",
              "65776  Puerto Rico  NaN    nan        NaT        2022-09-22             NaN   \n",
              "\n",
              "      Hospitalised (Y/N/NA) Date_hospitalisation Isolated (Y/N/NA)  \\\n",
              "0                         Y           2022-05-04                 Y   \n",
              "1                         Y           2022-05-06                 Y   \n",
              "2                         N                  NaT                 Y   \n",
              "3                         Y                  NaT                 Y   \n",
              "4                         Y                  NaT                 Y   \n",
              "...                     ...                  ...               ...   \n",
              "65772                   NaN                  NaT               NaN   \n",
              "65773                   NaN                  NaT               NaN   \n",
              "65774                   NaN                  NaT               NaN   \n",
              "65775                   NaN                  NaT               NaN   \n",
              "65776                   NaN                  NaT               NaN   \n",
              "\n",
              "      Date_isolation Outcome Date_death                  Contact_comment  \\\n",
              "0         2022-05-04     NaN        NaT                              NaN   \n",
              "1         2022-05-09     NaN        NaT  Index Case of household cluster   \n",
              "2                NaT     NaN        NaT                              NaN   \n",
              "3                NaT     NaN        NaT              Under investigation   \n",
              "4                NaT     NaN        NaT              Under investigation   \n",
              "...              ...     ...        ...                              ...   \n",
              "65772            NaT     NaN        NaT                              NaN   \n",
              "65773            NaT     NaN        NaT                              NaN   \n",
              "65774            NaT     NaN        NaT                              NaN   \n",
              "65775            NaT     NaN        NaT                              NaN   \n",
              "65776            NaT     NaN        NaT                              NaN   \n",
              "\n",
              "       Contact_ID Contact_location Travel_history (Y/N/NA)  \\\n",
              "0             NaN              NaN                       Y   \n",
              "1             3.0        Household                       N   \n",
              "2             2.0        Household                       N   \n",
              "3             NaN              NaN                       N   \n",
              "4             NaN              NaN                       N   \n",
              "...           ...              ...                     ...   \n",
              "65772         NaN              NaN                     NaN   \n",
              "65773         NaN              NaN                     NaN   \n",
              "65774         NaN              NaN                     NaN   \n",
              "65775         NaN              NaN                     NaN   \n",
              "65776         NaN              NaN                     NaN   \n",
              "\n",
              "      Travel_history_entry Travel_history_start Travel_history_location  \\\n",
              "0               2022-05-04           late April  Lagos and Delta States   \n",
              "1                      NaN                  NaN                     NaN   \n",
              "2                      NaN                  NaN                     NaN   \n",
              "3                      NaN                  NaN                     NaN   \n",
              "4                      NaN                  NaN                     NaN   \n",
              "...                    ...                  ...                     ...   \n",
              "65772                  NaN                  NaN                     NaN   \n",
              "65773                  NaN                  NaN                     NaN   \n",
              "65774                  NaN                  NaN                     NaN   \n",
              "65775                  NaN                  NaN                     NaN   \n",
              "65776                  NaN                  NaN                     NaN   \n",
              "\n",
              "      Travel_history_country   Genomics_Metadata Confirmation_method  \\\n",
              "0                    Nigeria  West African Clade              RT-PCR   \n",
              "1                        NaN  West African Clade              RT-PCR   \n",
              "2                        NaN  West African Clade              RT-PCR   \n",
              "3                        NaN  West African Clade                 NaN   \n",
              "4                        NaN  West African Clade                 NaN   \n",
              "...                      ...                 ...                 ...   \n",
              "65772                    NaN                 NaN                 NaN   \n",
              "65773                    NaN                 NaN                 NaN   \n",
              "65774                    NaN                 NaN                 NaN   \n",
              "65775                    NaN                 NaN                 NaN   \n",
              "65776                    NaN                 NaN                 NaN   \n",
              "\n",
              "      Date_entry Date_last_modified  \n",
              "0     2022-05-18         2022-05-18  \n",
              "1     2022-05-18         2022-05-18  \n",
              "2     2022-05-18         2022-05-18  \n",
              "3     2022-05-18         2022-05-18  \n",
              "4     2022-05-18         2022-05-18  \n",
              "...          ...                ...  \n",
              "65772 2022-09-22         2022-09-22  \n",
              "65773 2022-09-22         2022-09-22  \n",
              "65774 2022-09-22         2022-09-22  \n",
              "65775 2022-09-22         2022-09-22  \n",
              "65776 2022-09-22         2022-09-22  \n",
              "\n",
              "[65777 rows x 28 columns]"
            ],
            "text/html": [
              "\n",
              "  <div id=\"df-22d0e207-492a-4870-b812-165c720c6e28\">\n",
              "    <div class=\"colab-df-container\">\n",
              "      <div>\n",
              "<style scoped>\n",
              "    .dataframe tbody tr th:only-of-type {\n",
              "        vertical-align: middle;\n",
              "    }\n",
              "\n",
              "    .dataframe tbody tr th {\n",
              "        vertical-align: top;\n",
              "    }\n",
              "\n",
              "    .dataframe thead th {\n",
              "        text-align: right;\n",
              "    }\n",
              "</style>\n",
              "<table border=\"1\" class=\"dataframe\">\n",
              "  <thead>\n",
              "    <tr style=\"text-align: right;\">\n",
              "      <th></th>\n",
              "      <th>ID</th>\n",
              "      <th>Status</th>\n",
              "      <th>Location</th>\n",
              "      <th>City</th>\n",
              "      <th>Country</th>\n",
              "      <th>Age</th>\n",
              "      <th>Gender</th>\n",
              "      <th>Date_onset</th>\n",
              "      <th>Date_confirmation</th>\n",
              "      <th>Symptoms</th>\n",
              "      <th>Hospitalised (Y/N/NA)</th>\n",
              "      <th>Date_hospitalisation</th>\n",
              "      <th>Isolated (Y/N/NA)</th>\n",
              "      <th>Date_isolation</th>\n",
              "      <th>Outcome</th>\n",
              "      <th>Date_death</th>\n",
              "      <th>Contact_comment</th>\n",
              "      <th>Contact_ID</th>\n",
              "      <th>Contact_location</th>\n",
              "      <th>Travel_history (Y/N/NA)</th>\n",
              "      <th>Travel_history_entry</th>\n",
              "      <th>Travel_history_start</th>\n",
              "      <th>Travel_history_location</th>\n",
              "      <th>Travel_history_country</th>\n",
              "      <th>Genomics_Metadata</th>\n",
              "      <th>Confirmation_method</th>\n",
              "      <th>Date_entry</th>\n",
              "      <th>Date_last_modified</th>\n",
              "    </tr>\n",
              "  </thead>\n",
              "  <tbody>\n",
              "    <tr>\n",
              "      <th>0</th>\n",
              "      <td>1</td>\n",
              "      <td>confirmed</td>\n",
              "      <td>Guy's and St Thomas Hospital London</td>\n",
              "      <td>London</td>\n",
              "      <td>England</td>\n",
              "      <td>NaN</td>\n",
              "      <td>nan</td>\n",
              "      <td>2022-04-29</td>\n",
              "      <td>2022-05-06</td>\n",
              "      <td>rash</td>\n",
              "      <td>Y</td>\n",
              "      <td>2022-05-04</td>\n",
              "      <td>Y</td>\n",
              "      <td>2022-05-04</td>\n",
              "      <td>NaN</td>\n",
              "      <td>NaT</td>\n",
              "      <td>NaN</td>\n",
              "      <td>NaN</td>\n",
              "      <td>NaN</td>\n",
              "      <td>Y</td>\n",
              "      <td>2022-05-04</td>\n",
              "      <td>late April</td>\n",
              "      <td>Lagos and Delta States</td>\n",
              "      <td>Nigeria</td>\n",
              "      <td>West African Clade</td>\n",
              "      <td>RT-PCR</td>\n",
              "      <td>2022-05-18</td>\n",
              "      <td>2022-05-18</td>\n",
              "    </tr>\n",
              "    <tr>\n",
              "      <th>1</th>\n",
              "      <td>2</td>\n",
              "      <td>confirmed</td>\n",
              "      <td>Guy's and St Thomas Hospital London</td>\n",
              "      <td>London</td>\n",
              "      <td>England</td>\n",
              "      <td>NaN</td>\n",
              "      <td>nan</td>\n",
              "      <td>2022-05-05</td>\n",
              "      <td>2022-05-12</td>\n",
              "      <td>rash</td>\n",
              "      <td>Y</td>\n",
              "      <td>2022-05-06</td>\n",
              "      <td>Y</td>\n",
              "      <td>2022-05-09</td>\n",
              "      <td>NaN</td>\n",
              "      <td>NaT</td>\n",
              "      <td>Index Case of household cluster</td>\n",
              "      <td>3.0</td>\n",
              "      <td>Household</td>\n",
              "      <td>N</td>\n",
              "      <td>NaN</td>\n",
              "      <td>NaN</td>\n",
              "      <td>NaN</td>\n",
              "      <td>NaN</td>\n",
              "      <td>West African Clade</td>\n",
              "      <td>RT-PCR</td>\n",
              "      <td>2022-05-18</td>\n",
              "      <td>2022-05-18</td>\n",
              "    </tr>\n",
              "    <tr>\n",
              "      <th>2</th>\n",
              "      <td>3</td>\n",
              "      <td>confirmed</td>\n",
              "      <td>London</td>\n",
              "      <td>London</td>\n",
              "      <td>England</td>\n",
              "      <td>NaN</td>\n",
              "      <td>nan</td>\n",
              "      <td>2022-04-30</td>\n",
              "      <td>2022-05-13</td>\n",
              "      <td>vesicular rash</td>\n",
              "      <td>N</td>\n",
              "      <td>NaT</td>\n",
              "      <td>Y</td>\n",
              "      <td>NaT</td>\n",
              "      <td>NaN</td>\n",
              "      <td>NaT</td>\n",
              "      <td>NaN</td>\n",
              "      <td>2.0</td>\n",
              "      <td>Household</td>\n",
              "      <td>N</td>\n",
              "      <td>NaN</td>\n",
              "      <td>NaN</td>\n",
              "      <td>NaN</td>\n",
              "      <td>NaN</td>\n",
              "      <td>West African Clade</td>\n",
              "      <td>RT-PCR</td>\n",
              "      <td>2022-05-18</td>\n",
              "      <td>2022-05-18</td>\n",
              "    </tr>\n",
              "    <tr>\n",
              "      <th>3</th>\n",
              "      <td>4</td>\n",
              "      <td>confirmed</td>\n",
              "      <td>London</td>\n",
              "      <td>London</td>\n",
              "      <td>England</td>\n",
              "      <td>NaN</td>\n",
              "      <td>male</td>\n",
              "      <td>NaT</td>\n",
              "      <td>2022-05-15</td>\n",
              "      <td>vesicular rash</td>\n",
              "      <td>Y</td>\n",
              "      <td>NaT</td>\n",
              "      <td>Y</td>\n",
              "      <td>NaT</td>\n",
              "      <td>NaN</td>\n",
              "      <td>NaT</td>\n",
              "      <td>Under investigation</td>\n",
              "      <td>NaN</td>\n",
              "      <td>NaN</td>\n",
              "      <td>N</td>\n",
              "      <td>NaN</td>\n",
              "      <td>NaN</td>\n",
              "      <td>NaN</td>\n",
              "      <td>NaN</td>\n",
              "      <td>West African Clade</td>\n",
              "      <td>NaN</td>\n",
              "      <td>2022-05-18</td>\n",
              "      <td>2022-05-18</td>\n",
              "    </tr>\n",
              "    <tr>\n",
              "      <th>4</th>\n",
              "      <td>5</td>\n",
              "      <td>confirmed</td>\n",
              "      <td>London</td>\n",
              "      <td>London</td>\n",
              "      <td>England</td>\n",
              "      <td>NaN</td>\n",
              "      <td>male</td>\n",
              "      <td>NaT</td>\n",
              "      <td>2022-05-15</td>\n",
              "      <td>vesicular rash</td>\n",
              "      <td>Y</td>\n",
              "      <td>NaT</td>\n",
              "      <td>Y</td>\n",
              "      <td>NaT</td>\n",
              "      <td>NaN</td>\n",
              "      <td>NaT</td>\n",
              "      <td>Under investigation</td>\n",
              "      <td>NaN</td>\n",
              "      <td>NaN</td>\n",
              "      <td>N</td>\n",
              "      <td>NaN</td>\n",
              "      <td>NaN</td>\n",
              "      <td>NaN</td>\n",
              "      <td>NaN</td>\n",
              "      <td>West African Clade</td>\n",
              "      <td>NaN</td>\n",
              "      <td>2022-05-18</td>\n",
              "      <td>2022-05-18</td>\n",
              "    </tr>\n",
              "    <tr>\n",
              "      <th>...</th>\n",
              "      <td>...</td>\n",
              "      <td>...</td>\n",
              "      <td>...</td>\n",
              "      <td>...</td>\n",
              "      <td>...</td>\n",
              "      <td>...</td>\n",
              "      <td>...</td>\n",
              "      <td>...</td>\n",
              "      <td>...</td>\n",
              "      <td>...</td>\n",
              "      <td>...</td>\n",
              "      <td>...</td>\n",
              "      <td>...</td>\n",
              "      <td>...</td>\n",
              "      <td>...</td>\n",
              "      <td>...</td>\n",
              "      <td>...</td>\n",
              "      <td>...</td>\n",
              "      <td>...</td>\n",
              "      <td>...</td>\n",
              "      <td>...</td>\n",
              "      <td>...</td>\n",
              "      <td>...</td>\n",
              "      <td>...</td>\n",
              "      <td>...</td>\n",
              "      <td>...</td>\n",
              "      <td>...</td>\n",
              "      <td>...</td>\n",
              "    </tr>\n",
              "    <tr>\n",
              "      <th>65772</th>\n",
              "      <td>65773</td>\n",
              "      <td>confirmed</td>\n",
              "      <td>Santa Fe</td>\n",
              "      <td>NaN</td>\n",
              "      <td>Argentina</td>\n",
              "      <td>NaN</td>\n",
              "      <td>nan</td>\n",
              "      <td>NaT</td>\n",
              "      <td>2022-09-20</td>\n",
              "      <td>NaN</td>\n",
              "      <td>NaN</td>\n",
              "      <td>NaT</td>\n",
              "      <td>NaN</td>\n",
              "      <td>NaT</td>\n",
              "      <td>NaN</td>\n",
              "      <td>NaT</td>\n",
              "      <td>NaN</td>\n",
              "      <td>NaN</td>\n",
              "      <td>NaN</td>\n",
              "      <td>NaN</td>\n",
              "      <td>NaN</td>\n",
              "      <td>NaN</td>\n",
              "      <td>NaN</td>\n",
              "      <td>NaN</td>\n",
              "      <td>NaN</td>\n",
              "      <td>NaN</td>\n",
              "      <td>2022-09-22</td>\n",
              "      <td>2022-09-22</td>\n",
              "    </tr>\n",
              "    <tr>\n",
              "      <th>65773</th>\n",
              "      <td>65774</td>\n",
              "      <td>confirmed</td>\n",
              "      <td>Tierra del Fuego</td>\n",
              "      <td>NaN</td>\n",
              "      <td>Argentina</td>\n",
              "      <td>NaN</td>\n",
              "      <td>nan</td>\n",
              "      <td>NaT</td>\n",
              "      <td>2022-09-20</td>\n",
              "      <td>NaN</td>\n",
              "      <td>NaN</td>\n",
              "      <td>NaT</td>\n",
              "      <td>NaN</td>\n",
              "      <td>NaT</td>\n",
              "      <td>NaN</td>\n",
              "      <td>NaT</td>\n",
              "      <td>NaN</td>\n",
              "      <td>NaN</td>\n",
              "      <td>NaN</td>\n",
              "      <td>NaN</td>\n",
              "      <td>NaN</td>\n",
              "      <td>NaN</td>\n",
              "      <td>NaN</td>\n",
              "      <td>NaN</td>\n",
              "      <td>NaN</td>\n",
              "      <td>NaN</td>\n",
              "      <td>2022-09-22</td>\n",
              "      <td>2022-09-22</td>\n",
              "    </tr>\n",
              "    <tr>\n",
              "      <th>65774</th>\n",
              "      <td>65775</td>\n",
              "      <td>confirmed</td>\n",
              "      <td>NaN</td>\n",
              "      <td>NaN</td>\n",
              "      <td>Puerto Rico</td>\n",
              "      <td>NaN</td>\n",
              "      <td>nan</td>\n",
              "      <td>NaT</td>\n",
              "      <td>2022-09-22</td>\n",
              "      <td>NaN</td>\n",
              "      <td>NaN</td>\n",
              "      <td>NaT</td>\n",
              "      <td>NaN</td>\n",
              "      <td>NaT</td>\n",
              "      <td>NaN</td>\n",
              "      <td>NaT</td>\n",
              "      <td>NaN</td>\n",
              "      <td>NaN</td>\n",
              "      <td>NaN</td>\n",
              "      <td>NaN</td>\n",
              "      <td>NaN</td>\n",
              "      <td>NaN</td>\n",
              "      <td>NaN</td>\n",
              "      <td>NaN</td>\n",
              "      <td>NaN</td>\n",
              "      <td>NaN</td>\n",
              "      <td>2022-09-22</td>\n",
              "      <td>2022-09-22</td>\n",
              "    </tr>\n",
              "    <tr>\n",
              "      <th>65775</th>\n",
              "      <td>65776</td>\n",
              "      <td>confirmed</td>\n",
              "      <td>NaN</td>\n",
              "      <td>NaN</td>\n",
              "      <td>Puerto Rico</td>\n",
              "      <td>NaN</td>\n",
              "      <td>nan</td>\n",
              "      <td>NaT</td>\n",
              "      <td>2022-09-22</td>\n",
              "      <td>NaN</td>\n",
              "      <td>NaN</td>\n",
              "      <td>NaT</td>\n",
              "      <td>NaN</td>\n",
              "      <td>NaT</td>\n",
              "      <td>NaN</td>\n",
              "      <td>NaT</td>\n",
              "      <td>NaN</td>\n",
              "      <td>NaN</td>\n",
              "      <td>NaN</td>\n",
              "      <td>NaN</td>\n",
              "      <td>NaN</td>\n",
              "      <td>NaN</td>\n",
              "      <td>NaN</td>\n",
              "      <td>NaN</td>\n",
              "      <td>NaN</td>\n",
              "      <td>NaN</td>\n",
              "      <td>2022-09-22</td>\n",
              "      <td>2022-09-22</td>\n",
              "    </tr>\n",
              "    <tr>\n",
              "      <th>65776</th>\n",
              "      <td>65777</td>\n",
              "      <td>confirmed</td>\n",
              "      <td>NaN</td>\n",
              "      <td>NaN</td>\n",
              "      <td>Puerto Rico</td>\n",
              "      <td>NaN</td>\n",
              "      <td>nan</td>\n",
              "      <td>NaT</td>\n",
              "      <td>2022-09-22</td>\n",
              "      <td>NaN</td>\n",
              "      <td>NaN</td>\n",
              "      <td>NaT</td>\n",
              "      <td>NaN</td>\n",
              "      <td>NaT</td>\n",
              "      <td>NaN</td>\n",
              "      <td>NaT</td>\n",
              "      <td>NaN</td>\n",
              "      <td>NaN</td>\n",
              "      <td>NaN</td>\n",
              "      <td>NaN</td>\n",
              "      <td>NaN</td>\n",
              "      <td>NaN</td>\n",
              "      <td>NaN</td>\n",
              "      <td>NaN</td>\n",
              "      <td>NaN</td>\n",
              "      <td>NaN</td>\n",
              "      <td>2022-09-22</td>\n",
              "      <td>2022-09-22</td>\n",
              "    </tr>\n",
              "  </tbody>\n",
              "</table>\n",
              "<p>65777 rows × 28 columns</p>\n",
              "</div>\n",
              "      <button class=\"colab-df-convert\" onclick=\"convertToInteractive('df-22d0e207-492a-4870-b812-165c720c6e28')\"\n",
              "              title=\"Convert this dataframe to an interactive table.\"\n",
              "              style=\"display:none;\">\n",
              "        \n",
              "  <svg xmlns=\"http://www.w3.org/2000/svg\" height=\"24px\"viewBox=\"0 0 24 24\"\n",
              "       width=\"24px\">\n",
              "    <path d=\"M0 0h24v24H0V0z\" fill=\"none\"/>\n",
              "    <path d=\"M18.56 5.44l.94 2.06.94-2.06 2.06-.94-2.06-.94-.94-2.06-.94 2.06-2.06.94zm-11 1L8.5 8.5l.94-2.06 2.06-.94-2.06-.94L8.5 2.5l-.94 2.06-2.06.94zm10 10l.94 2.06.94-2.06 2.06-.94-2.06-.94-.94-2.06-.94 2.06-2.06.94z\"/><path d=\"M17.41 7.96l-1.37-1.37c-.4-.4-.92-.59-1.43-.59-.52 0-1.04.2-1.43.59L10.3 9.45l-7.72 7.72c-.78.78-.78 2.05 0 2.83L4 21.41c.39.39.9.59 1.41.59.51 0 1.02-.2 1.41-.59l7.78-7.78 2.81-2.81c.8-.78.8-2.07 0-2.86zM5.41 20L4 18.59l7.72-7.72 1.47 1.35L5.41 20z\"/>\n",
              "  </svg>\n",
              "      </button>\n",
              "      \n",
              "  <style>\n",
              "    .colab-df-container {\n",
              "      display:flex;\n",
              "      flex-wrap:wrap;\n",
              "      gap: 12px;\n",
              "    }\n",
              "\n",
              "    .colab-df-convert {\n",
              "      background-color: #E8F0FE;\n",
              "      border: none;\n",
              "      border-radius: 50%;\n",
              "      cursor: pointer;\n",
              "      display: none;\n",
              "      fill: #1967D2;\n",
              "      height: 32px;\n",
              "      padding: 0 0 0 0;\n",
              "      width: 32px;\n",
              "    }\n",
              "\n",
              "    .colab-df-convert:hover {\n",
              "      background-color: #E2EBFA;\n",
              "      box-shadow: 0px 1px 2px rgba(60, 64, 67, 0.3), 0px 1px 3px 1px rgba(60, 64, 67, 0.15);\n",
              "      fill: #174EA6;\n",
              "    }\n",
              "\n",
              "    [theme=dark] .colab-df-convert {\n",
              "      background-color: #3B4455;\n",
              "      fill: #D2E3FC;\n",
              "    }\n",
              "\n",
              "    [theme=dark] .colab-df-convert:hover {\n",
              "      background-color: #434B5C;\n",
              "      box-shadow: 0px 1px 3px 1px rgba(0, 0, 0, 0.15);\n",
              "      filter: drop-shadow(0px 1px 2px rgba(0, 0, 0, 0.3));\n",
              "      fill: #FFFFFF;\n",
              "    }\n",
              "  </style>\n",
              "\n",
              "      <script>\n",
              "        const buttonEl =\n",
              "          document.querySelector('#df-22d0e207-492a-4870-b812-165c720c6e28 button.colab-df-convert');\n",
              "        buttonEl.style.display =\n",
              "          google.colab.kernel.accessAllowed ? 'block' : 'none';\n",
              "\n",
              "        async function convertToInteractive(key) {\n",
              "          const element = document.querySelector('#df-22d0e207-492a-4870-b812-165c720c6e28');\n",
              "          const dataTable =\n",
              "            await google.colab.kernel.invokeFunction('convertToInteractive',\n",
              "                                                     [key], {});\n",
              "          if (!dataTable) return;\n",
              "\n",
              "          const docLinkHtml = 'Like what you see? Visit the ' +\n",
              "            '<a target=\"_blank\" href=https://colab.research.google.com/notebooks/data_table.ipynb>data table notebook</a>'\n",
              "            + ' to learn more about interactive tables.';\n",
              "          element.innerHTML = '';\n",
              "          dataTable['output_type'] = 'display_data';\n",
              "          await google.colab.output.renderOutput(dataTable, element);\n",
              "          const docLink = document.createElement('div');\n",
              "          docLink.innerHTML = docLinkHtml;\n",
              "          element.appendChild(docLink);\n",
              "        }\n",
              "      </script>\n",
              "    </div>\n",
              "  </div>\n",
              "  "
            ]
          },
          "metadata": {},
          "execution_count": 58
        }
      ]
    },
    {
      "cell_type": "markdown",
      "source": [
        "### Cleaning stray values in columns\n",
        "\n",
        "In this part we go through the columns that had different text data as some had repeating but similar values and sentences \n",
        "\n",
        "We manually edit some of these values and replace it with just one datapoint so it is uniform and ready for aggregation purposes"
      ],
      "metadata": {
        "id": "TCDIE1tlaWa_"
      }
    },
    {
      "cell_type": "markdown",
      "source": [
        "#### Travel Location"
      ],
      "metadata": {
        "id": "-PCNjCRdaZ5e"
      }
    },
    {
      "cell_type": "code",
      "source": [
        "df['Travel_history_location'].value_counts()"
      ],
      "metadata": {
        "colab": {
          "base_uri": "https://localhost:8080/"
        },
        "id": "spSWYwesaKLk",
        "outputId": "49f4517a-c1e4-4ff0-8237-1bdd8578be8a"
      },
      "execution_count": null,
      "outputs": [
        {
          "output_type": "execute_result",
          "data": {
            "text/plain": [
              "Europe                                                                     34\n",
              "Canary Islands                                                              6\n",
              "international travel                                                        5\n",
              "Berlin                                                                      4\n",
              "London                                                                      4\n",
              "Sao Paulo                                                                   3\n",
              "Africa                                                                      3\n",
              "Dubai                                                                       2\n",
              "Nigeria                                                                     2\n",
              "Spain, Britain                                                              2\n",
              "USA                                                                         2\n",
              "Internationally                                                             2\n",
              "United Kingdom                                                              2\n",
              "Spain                                                                       2\n",
              "recent travel to countries with documented confirmed cases of Monkeypox     2\n",
              "Travel out of state within the US                                           1\n",
              "Traveled out of state, within the US                                        1\n",
              "Qatar                                                                       1\n",
              "Brazil                                                                      1\n",
              "Rio de Janeiro, Sao Paulo                                                   1\n",
              "Peru                                                                        1\n",
              "Great Britain                                                               1\n",
              "Travel within the United States                                             1\n",
              "European countries                                                          1\n",
              "Guayaquil, Ecuador                                                          1\n",
              "Canada                                                                      1\n",
              "Middle-East                                                                 1\n",
              "New York                                                                    1\n",
              "travel within the United States                                             1\n",
              "Lima                                                                        1\n",
              "travel to mainland                                                          1\n",
              "Mexico                                                                      1\n",
              "Lagos and Delta States                                                      1\n",
              "Singapore                                                                   1\n",
              "out of state                                                                1\n",
              "Traveled out of state                                                       1\n",
              "Lisbon                                                                      1\n",
              "Belgium                                                                     1\n",
              "Western Europe                                                              1\n",
              "Antwerp                                                                     1\n",
              "West Africa                                                                 1\n",
              "Madrid;                                                                     1\n",
              "Canary Island                                                               1\n",
              "Machala, Ecuador                                                            1\n",
              "Portugal                                                                    1\n",
              "Queensland                                                                  1\n",
              "Massachusetts                                                               1\n",
              "Within the United States                                                    1\n",
              "North Africa                                                                1\n",
              "Madrid, Spain                                                               1\n",
              "International                                                               1\n",
              "Europe in past 3 weeks                                                      1\n",
              "out of state travel                                                         1\n",
              "United States                                                               1\n",
              "Name: Travel_history_location, dtype: int64"
            ]
          },
          "metadata": {},
          "execution_count": 59
        }
      ]
    },
    {
      "cell_type": "code",
      "source": [
        "df['Travel_history_location'] = df['Travel_history_location'].replace(['Traveled out of state, within the US','out of state travel','Traveled out of state'],'out of state')\n",
        "df['Travel_history_location'] = df['Travel_history_location'].replace(['Internationally', 'international travel'],'International')\n",
        "df['Travel_history_location'] = df['Travel_history_location'].replace(['European countries'], 'Europe')\n",
        "df['Travel_history_location'] = df['Travel_history_location'].replace(['European countries'], 'Europe')\n",
        "\n",
        "# Replace similar values to the same value"
      ],
      "metadata": {
        "id": "hzHrBvAWac4k"
      },
      "execution_count": null,
      "outputs": []
    },
    {
      "cell_type": "code",
      "source": [
        "df['Travel_history_location'].value_counts() # check if it worked"
      ],
      "metadata": {
        "colab": {
          "base_uri": "https://localhost:8080/"
        },
        "id": "4ThGP0MxcYwe",
        "outputId": "517b341a-579d-442e-85ce-bb0d71aacd6e"
      },
      "execution_count": null,
      "outputs": [
        {
          "output_type": "execute_result",
          "data": {
            "text/plain": [
              "Europe                                                                     35\n",
              "International                                                               8\n",
              "Canary Islands                                                              6\n",
              "Berlin                                                                      4\n",
              "London                                                                      4\n",
              "out of state                                                                4\n",
              "Sao Paulo                                                                   3\n",
              "Africa                                                                      3\n",
              "Dubai                                                                       2\n",
              "United Kingdom                                                              2\n",
              "Nigeria                                                                     2\n",
              "Spain, Britain                                                              2\n",
              "USA                                                                         2\n",
              "Spain                                                                       2\n",
              "recent travel to countries with documented confirmed cases of Monkeypox     2\n",
              "Travel out of state within the US                                           1\n",
              "Travel within the United States                                             1\n",
              "Qatar                                                                       1\n",
              "Brazil                                                                      1\n",
              "Peru                                                                        1\n",
              "Great Britain                                                               1\n",
              "Canada                                                                      1\n",
              "Middle-East                                                                 1\n",
              "Guayaquil, Ecuador                                                          1\n",
              "New York                                                                    1\n",
              "travel within the United States                                             1\n",
              "Lima                                                                        1\n",
              "travel to mainland                                                          1\n",
              "Rio de Janeiro, Sao Paulo                                                   1\n",
              "Lagos and Delta States                                                      1\n",
              "Singapore                                                                   1\n",
              "Mexico                                                                      1\n",
              "Canary Island                                                               1\n",
              "Lisbon                                                                      1\n",
              "Belgium                                                                     1\n",
              "Western Europe                                                              1\n",
              "Antwerp                                                                     1\n",
              "West Africa                                                                 1\n",
              "Madrid;                                                                     1\n",
              "Machala, Ecuador                                                            1\n",
              "Europe in past 3 weeks                                                      1\n",
              "Portugal                                                                    1\n",
              "Queensland                                                                  1\n",
              "Massachusetts                                                               1\n",
              "Within the United States                                                    1\n",
              "North Africa                                                                1\n",
              "Madrid, Spain                                                               1\n",
              "United States                                                               1\n",
              "Name: Travel_history_location, dtype: int64"
            ]
          },
          "metadata": {},
          "execution_count": 61
        }
      ]
    },
    {
      "cell_type": "markdown",
      "source": [
        "#### Confirmation method"
      ],
      "metadata": {
        "id": "MlXLGWKBd77p"
      }
    },
    {
      "cell_type": "code",
      "source": [
        "df['Confirmation_method'] = df['Confirmation_method'].replace(['confirmed positive for Monkeypox via Reverse Transcriptase Polymerase Chain Reaction or RT-PCR by the DOH Research Institute for Tropical Medicine (RITM) on August 18, 2022','confirmed positive for Monkeypox via RT-PCR by the DOH RITM on August 19, 2022', 'confirmed positive for Monkeypox via Reverse Transcriptase Polymerase Chain Reaction or RT-PCR by the DOH', 'confirmed positive for Monkeypox via RT-PCR by the DOH RITM on August 19, 2022'], 'RT-PCR')"
      ],
      "metadata": {
        "id": "WhKIj1Ymd_rq"
      },
      "execution_count": null,
      "outputs": []
    },
    {
      "cell_type": "code",
      "source": [
        "df['Confirmation_method'].value_counts()"
      ],
      "metadata": {
        "colab": {
          "base_uri": "https://localhost:8080/"
        },
        "id": "7bDJvy8eebJs",
        "outputId": "92845737-32ef-4c0b-c069-8e0c5fd5fc26"
      },
      "execution_count": null,
      "outputs": [
        {
          "output_type": "execute_result",
          "data": {
            "text/plain": [
              "RT-PCR                             52\n",
              "qPCR or RT-PCR                     32\n",
              "PCR                                11\n",
              "\"Molecular and gene sequencing\"     1\n",
              "Electron microscopy                 1\n",
              "Sequencing                          1\n",
              "Microbiological Test                1\n",
              "PCR and sequencing                  1\n",
              "Name: Confirmation_method, dtype: int64"
            ]
          },
          "metadata": {},
          "execution_count": 63
        }
      ]
    },
    {
      "cell_type": "markdown",
      "source": [
        "#### Travel history country"
      ],
      "metadata": {
        "id": "cOI6h7yvgYEp"
      }
    },
    {
      "cell_type": "code",
      "source": [
        "df['Travel_history_country'] = df['Travel_history_country'].replace(['Spain; Portugal'], 'Spain, Portugal')"
      ],
      "metadata": {
        "id": "FU63W9Ocg3El"
      },
      "execution_count": null,
      "outputs": []
    },
    {
      "cell_type": "code",
      "source": [
        "df['Travel_history_country'].value_counts()"
      ],
      "metadata": {
        "colab": {
          "base_uri": "https://localhost:8080/"
        },
        "id": "wQm1kNGxgbLa",
        "outputId": "243f49be-07f8-4100-b269-3ec72d15b5c1"
      },
      "execution_count": null,
      "outputs": [
        {
          "output_type": "execute_result",
          "data": {
            "text/plain": [
              "Spain                                            20\n",
              "Germany                                           7\n",
              "United States                                     7\n",
              "England                                           7\n",
              "Brazil                                            6\n",
              "Portugal                                          5\n",
              "USA                                               5\n",
              "Nigeria                                           3\n",
              "France                                            3\n",
              "Mexico                                            2\n",
              "Italy                                             2\n",
              "UAE                                               2\n",
              "Spain, Mexico                                     2\n",
              "Spain, Portugal                                   2\n",
              "Bangladesh                                        2\n",
              "Canada                                            2\n",
              "Spain, Singapore                                  1\n",
              "Switzerland                                       1\n",
              "United States, Canada, and Phillipeans            1\n",
              "Netherlands and Spain                             1\n",
              "United Arab Emirates                              1\n",
              "United Kingdom                                    1\n",
              "Western Europe                                    1\n",
              "Peru                                              1\n",
              "France, Spain                                     1\n",
              "Denmark                                           1\n",
              "travel to a country experiencing MPX outbreak     1\n",
              "Canary Islands                                    1\n",
              "Belgium                                           1\n",
              "Gran Canaria                                      1\n",
              "South Africa                                      1\n",
              "Italy, Spain                                      1\n",
              "Spain; Germany                                    1\n",
              "Europe                                            1\n",
              "Africa                                            1\n",
              "Australia                                         1\n",
              "Reunion, Congo                                    1\n",
              "Qatar                                             1\n",
              "Name: Travel_history_country, dtype: int64"
            ]
          },
          "metadata": {},
          "execution_count": 65
        }
      ]
    },
    {
      "cell_type": "markdown",
      "source": [
        "#### Travel history entry"
      ],
      "metadata": {
        "id": "NtIgB1gIhZh2"
      }
    },
    {
      "cell_type": "code",
      "source": [
        "df['Travel_history_entry'].value_counts()"
      ],
      "metadata": {
        "colab": {
          "base_uri": "https://localhost:8080/"
        },
        "id": "lYKvQJADhbpP",
        "outputId": "cb0be23b-8cb6-4ca0-bbeb-629785b92aac"
      },
      "execution_count": null,
      "outputs": [
        {
          "output_type": "execute_result",
          "data": {
            "text/plain": [
              "2022-05-16          2\n",
              "2022-07-01          2\n",
              "2022-06-20          2\n",
              "2022-07-21          2\n",
              "2022-06-30          2\n",
              "2022-05-04          1\n",
              "2022-07-19          1\n",
              "2022-07-03          1\n",
              "2022-07-10          1\n",
              "2022-07-13          1\n",
              "2022-08-02          1\n",
              "2022-07-07          1\n",
              "2022-08-11          1\n",
              "abroad              1\n",
              "2022-08-21          1\n",
              "2022-08-26          1\n",
              "2022-09-10          1\n",
              "2022-09-14          1\n",
              "2022-06-27          1\n",
              "2022-06-26          1\n",
              "2022-06-28          1\n",
              "2022-05-22          1\n",
              "2022-05-20          1\n",
              "2022-05-15          1\n",
              "2022-05-27          1\n",
              "2022-05-25          1\n",
              "2022-05-10          1\n",
              "American tourist    1\n",
              "May                 1\n",
              "early May           1\n",
              "2022-06-12          1\n",
              "2022-06-11          1\n",
              "2022-06-06          1\n",
              "domestic travel     1\n",
              "2022-06-21          1\n",
              "2022-06-09          1\n",
              "2022-09-13          1\n",
              "Name: Travel_history_entry, dtype: int64"
            ]
          },
          "metadata": {},
          "execution_count": 66
        }
      ]
    },
    {
      "cell_type": "code",
      "source": [
        "df['Travel_history_entry'] = df['Travel_history_entry'].replace(['early May', 'May'], '2022-05-01')\n",
        "df['Travel_history_entry'] = df['Travel_history_entry'].replace(['American tourist', 'abroad', 'domestic travel'], 'NaT')"
      ],
      "metadata": {
        "id": "gekCQ7NthhWp"
      },
      "execution_count": null,
      "outputs": []
    },
    {
      "cell_type": "code",
      "source": [
        "df['Travel_history_entry'].value_counts()"
      ],
      "metadata": {
        "colab": {
          "base_uri": "https://localhost:8080/"
        },
        "id": "GqpaSIthh11c",
        "outputId": "aff6755c-6cda-4611-cee1-707984ff24d8"
      },
      "execution_count": null,
      "outputs": [
        {
          "output_type": "execute_result",
          "data": {
            "text/plain": [
              "NaT           3\n",
              "2022-06-30    2\n",
              "2022-05-16    2\n",
              "2022-05-01    2\n",
              "2022-06-20    2\n",
              "2022-07-01    2\n",
              "2022-07-21    2\n",
              "2022-07-19    1\n",
              "2022-07-03    1\n",
              "2022-07-10    1\n",
              "2022-07-13    1\n",
              "2022-05-04    1\n",
              "2022-07-07    1\n",
              "2022-08-11    1\n",
              "2022-08-21    1\n",
              "2022-08-26    1\n",
              "2022-09-10    1\n",
              "2022-09-14    1\n",
              "2022-08-02    1\n",
              "2022-06-28    1\n",
              "2022-06-27    1\n",
              "2022-06-26    1\n",
              "2022-06-09    1\n",
              "2022-06-21    1\n",
              "2022-06-06    1\n",
              "2022-06-11    1\n",
              "2022-06-12    1\n",
              "2022-05-22    1\n",
              "2022-05-10    1\n",
              "2022-05-25    1\n",
              "2022-05-27    1\n",
              "2022-05-15    1\n",
              "2022-05-20    1\n",
              "2022-09-13    1\n",
              "Name: Travel_history_entry, dtype: int64"
            ]
          },
          "metadata": {},
          "execution_count": 68
        }
      ]
    },
    {
      "cell_type": "code",
      "source": [
        "df['Travel_history_entry'] = pd.to_datetime(df['Travel_history_entry']) #final step same with the other values where we convert this to datetime"
      ],
      "metadata": {
        "id": "whF6X1Hih7TL"
      },
      "execution_count": null,
      "outputs": []
    },
    {
      "cell_type": "code",
      "source": [
        "df['Travel_history_entry'].value_counts()"
      ],
      "metadata": {
        "colab": {
          "base_uri": "https://localhost:8080/"
        },
        "id": "Y9WTjt7vijfi",
        "outputId": "9e34838a-56ba-4559-a1be-47ed0e08e6a6"
      },
      "execution_count": null,
      "outputs": [
        {
          "output_type": "execute_result",
          "data": {
            "text/plain": [
              "2022-06-30    2\n",
              "2022-05-16    2\n",
              "2022-05-01    2\n",
              "2022-06-20    2\n",
              "2022-07-21    2\n",
              "2022-07-01    2\n",
              "2022-07-19    1\n",
              "2022-07-03    1\n",
              "2022-07-10    1\n",
              "2022-07-13    1\n",
              "2022-05-04    1\n",
              "2022-08-02    1\n",
              "2022-08-11    1\n",
              "2022-08-21    1\n",
              "2022-08-26    1\n",
              "2022-09-10    1\n",
              "2022-09-14    1\n",
              "2022-07-07    1\n",
              "2022-06-28    1\n",
              "2022-06-27    1\n",
              "2022-06-26    1\n",
              "2022-06-09    1\n",
              "2022-06-21    1\n",
              "2022-06-06    1\n",
              "2022-06-11    1\n",
              "2022-06-12    1\n",
              "2022-05-22    1\n",
              "2022-05-10    1\n",
              "2022-05-25    1\n",
              "2022-05-27    1\n",
              "2022-05-15    1\n",
              "2022-05-20    1\n",
              "2022-09-13    1\n",
              "Name: Travel_history_entry, dtype: int64"
            ]
          },
          "metadata": {},
          "execution_count": 70
        }
      ]
    },
    {
      "cell_type": "code",
      "source": [
        "df.info()"
      ],
      "metadata": {
        "colab": {
          "base_uri": "https://localhost:8080/"
        },
        "id": "ouNRbCDGkxYE",
        "outputId": "9cd789a5-36fe-4311-fdab-e992bf75f46f"
      },
      "execution_count": null,
      "outputs": [
        {
          "output_type": "stream",
          "name": "stdout",
          "text": [
            "<class 'pandas.core.frame.DataFrame'>\n",
            "RangeIndex: 65777 entries, 0 to 65776\n",
            "Data columns (total 28 columns):\n",
            " #   Column                   Non-Null Count  Dtype         \n",
            "---  ------                   --------------  -----         \n",
            " 0   ID                       65777 non-null  int64         \n",
            " 1   Status                   65777 non-null  object        \n",
            " 2   Location                 51672 non-null  object        \n",
            " 3   City                     1383 non-null   object        \n",
            " 4   Country                  65777 non-null  object        \n",
            " 5   Age                      2988 non-null   object        \n",
            " 6   Gender                   65777 non-null  object        \n",
            " 7   Date_onset               77 non-null     datetime64[ns]\n",
            " 8   Date_confirmation        65053 non-null  datetime64[ns]\n",
            " 9   Symptoms                 220 non-null    object        \n",
            " 10  Hospitalised (Y/N/NA)    354 non-null    object        \n",
            " 11  Date_hospitalisation     35 non-null     datetime64[ns]\n",
            " 12  Isolated (Y/N/NA)        492 non-null    object        \n",
            " 13  Date_isolation           16 non-null     datetime64[ns]\n",
            " 14  Outcome                  25 non-null     object        \n",
            " 15  Date_death               20 non-null     datetime64[ns]\n",
            " 16  Contact_comment          91 non-null     object        \n",
            " 17  Contact_ID               27 non-null     float64       \n",
            " 18  Contact_location         6 non-null      object        \n",
            " 19  Travel_history (Y/N/NA)  365 non-null    object        \n",
            " 20  Travel_history_entry     39 non-null     datetime64[ns]\n",
            " 21  Travel_history_start     11 non-null     object        \n",
            " 22  Travel_history_location  114 non-null    object        \n",
            " 23  Travel_history_country   99 non-null     object        \n",
            " 24  Genomics_Metadata        24 non-null     object        \n",
            " 25  Confirmation_method      100 non-null    object        \n",
            " 26  Date_entry               65777 non-null  datetime64[ns]\n",
            " 27  Date_last_modified       55777 non-null  datetime64[ns]\n",
            "dtypes: datetime64[ns](8), float64(1), int64(1), object(18)\n",
            "memory usage: 14.1+ MB\n"
          ]
        }
      ]
    },
    {
      "cell_type": "markdown",
      "source": [
        "#### Travel history start"
      ],
      "metadata": {
        "id": "5jSrN_J7jlx-"
      }
    },
    {
      "cell_type": "code",
      "source": [
        "df['Travel_history_start'].value_counts()"
      ],
      "metadata": {
        "colab": {
          "base_uri": "https://localhost:8080/"
        },
        "id": "loHIQGB9jkCA",
        "outputId": "f10747b2-c4df-487a-96ba-9c96b3e4541a"
      },
      "execution_count": null,
      "outputs": [
        {
          "output_type": "execute_result",
          "data": {
            "text/plain": [
              "late April    2\n",
              "2022-04-28    1\n",
              "2022-05-23    1\n",
              "2022-06-09    1\n",
              "2022-06-16    1\n",
              "2022-06-11    1\n",
              "May           1\n",
              "Early july    1\n",
              "2022-08-15    1\n",
              "2022-08-26    1\n",
              "Name: Travel_history_start, dtype: int64"
            ]
          },
          "metadata": {},
          "execution_count": 72
        }
      ]
    },
    {
      "cell_type": "code",
      "source": [
        "# Replace text data with first day of the month\n",
        "df['Travel_history_start'] = df['Travel_history_start'].replace(['May'], '2022-05-01')\n",
        "df['Travel_history_start'] = df['Travel_history_start'].replace(['Early july'], '2022-07-01')\n",
        "df['Travel_history_start'] = df['Travel_history_start'].replace(['late April'], '2022-04-15')"
      ],
      "metadata": {
        "id": "kOtBeKhFj54_"
      },
      "execution_count": null,
      "outputs": []
    },
    {
      "cell_type": "code",
      "source": [
        "df['Travel_history_start'].value_counts()"
      ],
      "metadata": {
        "colab": {
          "base_uri": "https://localhost:8080/"
        },
        "id": "WLS1pcj8kTzU",
        "outputId": "4c7d991b-8dc1-4d82-adb0-d97cf5dc576d"
      },
      "execution_count": null,
      "outputs": [
        {
          "output_type": "execute_result",
          "data": {
            "text/plain": [
              "2022-04-15    2\n",
              "2022-04-28    1\n",
              "2022-05-23    1\n",
              "2022-06-09    1\n",
              "2022-06-16    1\n",
              "2022-06-11    1\n",
              "2022-05-01    1\n",
              "2022-07-01    1\n",
              "2022-08-15    1\n",
              "2022-08-26    1\n",
              "Name: Travel_history_start, dtype: int64"
            ]
          },
          "metadata": {},
          "execution_count": 74
        }
      ]
    },
    {
      "cell_type": "code",
      "source": [
        "df['Travel_history_start'] = pd.to_datetime(df['Travel_history_start']) #final step same with the other values where we convert this to datetime"
      ],
      "metadata": {
        "id": "ITUpNjiKkZDC"
      },
      "execution_count": null,
      "outputs": []
    },
    {
      "cell_type": "code",
      "source": [
        "df.info()"
      ],
      "metadata": {
        "colab": {
          "base_uri": "https://localhost:8080/"
        },
        "id": "ZIkDM5qnkgd3",
        "outputId": "43594f7b-876d-40df-f99f-e778bbea460d"
      },
      "execution_count": null,
      "outputs": [
        {
          "output_type": "stream",
          "name": "stdout",
          "text": [
            "<class 'pandas.core.frame.DataFrame'>\n",
            "RangeIndex: 65777 entries, 0 to 65776\n",
            "Data columns (total 28 columns):\n",
            " #   Column                   Non-Null Count  Dtype         \n",
            "---  ------                   --------------  -----         \n",
            " 0   ID                       65777 non-null  int64         \n",
            " 1   Status                   65777 non-null  object        \n",
            " 2   Location                 51672 non-null  object        \n",
            " 3   City                     1383 non-null   object        \n",
            " 4   Country                  65777 non-null  object        \n",
            " 5   Age                      2988 non-null   object        \n",
            " 6   Gender                   65777 non-null  object        \n",
            " 7   Date_onset               77 non-null     datetime64[ns]\n",
            " 8   Date_confirmation        65053 non-null  datetime64[ns]\n",
            " 9   Symptoms                 220 non-null    object        \n",
            " 10  Hospitalised (Y/N/NA)    354 non-null    object        \n",
            " 11  Date_hospitalisation     35 non-null     datetime64[ns]\n",
            " 12  Isolated (Y/N/NA)        492 non-null    object        \n",
            " 13  Date_isolation           16 non-null     datetime64[ns]\n",
            " 14  Outcome                  25 non-null     object        \n",
            " 15  Date_death               20 non-null     datetime64[ns]\n",
            " 16  Contact_comment          91 non-null     object        \n",
            " 17  Contact_ID               27 non-null     float64       \n",
            " 18  Contact_location         6 non-null      object        \n",
            " 19  Travel_history (Y/N/NA)  365 non-null    object        \n",
            " 20  Travel_history_entry     39 non-null     datetime64[ns]\n",
            " 21  Travel_history_start     11 non-null     datetime64[ns]\n",
            " 22  Travel_history_location  114 non-null    object        \n",
            " 23  Travel_history_country   99 non-null     object        \n",
            " 24  Genomics_Metadata        24 non-null     object        \n",
            " 25  Confirmation_method      100 non-null    object        \n",
            " 26  Date_entry               65777 non-null  datetime64[ns]\n",
            " 27  Date_last_modified       55777 non-null  datetime64[ns]\n",
            "dtypes: datetime64[ns](9), float64(1), int64(1), object(17)\n",
            "memory usage: 14.1+ MB\n"
          ]
        }
      ]
    },
    {
      "cell_type": "markdown",
      "source": [
        "## Final Cleaned CSV\n",
        "Export final cleaned dataset"
      ],
      "metadata": {
        "id": "Thgzv30kfioT"
      }
    },
    {
      "cell_type": "code",
      "source": [
        "df.to_csv('Monkeypox_cleaned_data.csv')"
      ],
      "metadata": {
        "id": "Ic7oLJBrehS1"
      },
      "execution_count": null,
      "outputs": []
    },
    {
      "cell_type": "code",
      "source": [],
      "metadata": {
        "id": "CxwS9Hq4fmxl"
      },
      "execution_count": null,
      "outputs": []
    },
    {
      "cell_type": "markdown",
      "source": [
        "# ISCS 30.18 Exercise 4 - Filling in Missing Data"
      ],
      "metadata": {
        "id": "tJSIRVCyyOjT"
      }
    },
    {
      "cell_type": "code",
      "source": [
        "print(f'TOTAL ROW COUNT: {len(df)}\\n\\n')\n",
        "\n",
        "print('MISSING ROWS COUNT:')\n",
        "for i in df.columns:\n",
        "    print(f'{i}: {df[i].isna().sum()}')"
      ],
      "metadata": {
        "colab": {
          "base_uri": "https://localhost:8080/"
        },
        "id": "NO1oy4HpyXYs",
        "outputId": "2fb9984e-4ab1-4d0c-827c-b4a89db0fc03"
      },
      "execution_count": null,
      "outputs": [
        {
          "output_type": "stream",
          "name": "stdout",
          "text": [
            "TOTAL ROW COUNT: 65777\n",
            "\n",
            "ID: 0\n",
            "Status: 0\n",
            "Location: 14105\n",
            "City: 64394\n",
            "Country: 0\n",
            "Age: 62789\n",
            "Gender: 0\n",
            "Date_onset: 65700\n",
            "Date_confirmation: 724\n",
            "Symptoms: 65557\n",
            "Hospitalised (Y/N/NA): 65423\n",
            "Date_hospitalisation: 65742\n",
            "Isolated (Y/N/NA): 65285\n",
            "Date_isolation: 65761\n",
            "Outcome: 65752\n",
            "Date_death: 65757\n",
            "Contact_comment: 65686\n",
            "Contact_ID: 65750\n",
            "Contact_location: 65771\n",
            "Travel_history (Y/N/NA): 65412\n",
            "Travel_history_entry: 65738\n",
            "Travel_history_start: 65766\n",
            "Travel_history_location: 65663\n",
            "Travel_history_country: 65678\n",
            "Genomics_Metadata: 65753\n",
            "Confirmation_method: 65677\n",
            "Date_entry: 0\n",
            "Date_last_modified: 10000\n"
          ]
        }
      ]
    },
    {
      "cell_type": "code",
      "source": [
        "df.info()"
      ],
      "metadata": {
        "id": "KegPPfoIcJcm",
        "outputId": "ad245a31-ea1b-4785-818d-5976aadcb8e0",
        "colab": {
          "base_uri": "https://localhost:8080/"
        }
      },
      "execution_count": null,
      "outputs": [
        {
          "output_type": "stream",
          "name": "stdout",
          "text": [
            "<class 'pandas.core.frame.DataFrame'>\n",
            "RangeIndex: 65777 entries, 0 to 65776\n",
            "Data columns (total 28 columns):\n",
            " #   Column                   Non-Null Count  Dtype         \n",
            "---  ------                   --------------  -----         \n",
            " 0   ID                       65777 non-null  int64         \n",
            " 1   Status                   65777 non-null  object        \n",
            " 2   Location                 51672 non-null  object        \n",
            " 3   City                     1383 non-null   object        \n",
            " 4   Country                  65777 non-null  object        \n",
            " 5   Age                      2988 non-null   object        \n",
            " 6   Gender                   65777 non-null  object        \n",
            " 7   Date_onset               77 non-null     datetime64[ns]\n",
            " 8   Date_confirmation        65053 non-null  datetime64[ns]\n",
            " 9   Symptoms                 220 non-null    object        \n",
            " 10  Hospitalised (Y/N/NA)    354 non-null    object        \n",
            " 11  Date_hospitalisation     35 non-null     datetime64[ns]\n",
            " 12  Isolated (Y/N/NA)        492 non-null    object        \n",
            " 13  Date_isolation           16 non-null     datetime64[ns]\n",
            " 14  Outcome                  25 non-null     object        \n",
            " 15  Date_death               20 non-null     datetime64[ns]\n",
            " 16  Contact_comment          91 non-null     object        \n",
            " 17  Contact_ID               27 non-null     float64       \n",
            " 18  Contact_location         6 non-null      object        \n",
            " 19  Travel_history (Y/N/NA)  365 non-null    object        \n",
            " 20  Travel_history_entry     39 non-null     datetime64[ns]\n",
            " 21  Travel_history_start     11 non-null     datetime64[ns]\n",
            " 22  Travel_history_location  114 non-null    object        \n",
            " 23  Travel_history_country   99 non-null     object        \n",
            " 24  Genomics_Metadata        24 non-null     object        \n",
            " 25  Confirmation_method      100 non-null    object        \n",
            " 26  Date_entry               65777 non-null  datetime64[ns]\n",
            " 27  Date_last_modified       55777 non-null  datetime64[ns]\n",
            "dtypes: datetime64[ns](9), float64(1), int64(1), object(17)\n",
            "memory usage: 14.1+ MB\n"
          ]
        }
      ]
    },
    {
      "cell_type": "markdown",
      "source": [
        "## Columns that have missing values\n",
        "\n",
        "* Location\n",
        "* City\n",
        "* Country\n",
        "* Age\n",
        "* Date_onset\n",
        "* Date_confirmation\n",
        "* Symptoms\n",
        "* Hospitalized (Y/N/NA)\n",
        "* Date_isolation\n",
        "* Outcome\n",
        "* Date_death\n",
        "* Contact_comment\n",
        "* Contact_ID\n",
        "* Contact_location\n",
        "* Travel_history (Y/N/NA)\n",
        "* Travel_history_entry\n",
        "* Travel_history_start\n",
        "* Travel_history_location\n",
        "* Travel_history_country\n",
        "* Genomics_Metadata\n",
        "* Date_last_modified\n",
        "* Confirmation_method\n",
        "\n",
        "Before we proceed with handling the missing values, we set here that the expectation for processing it is for the use of a machine learning algorithm. \n",
        "\n",
        "The initial response to handling missing values is to drop the column entirely however, this can't be done in any of our columns except for the `Contact_comment` column because we'll be dropping highly valuable data that is important despite it being significantly less represented compared to the entire dataset. \n",
        "\n",
        "Imputation is another option to \n",
        "\n",
        "Thus, we'll group the data into relevant machine learning applications then decide how to process them from there.\n",
        "\n",
        "This assumes that for a specific analysis, the other columns for different applications aren't relevant and thus can be dropped due to their missing values.\n",
        "\n",
        "In this next section, we also put alongside it the  decision for handling missing values for each column\n",
        "\n",
        "### Geospatial analysis\n",
        "* Location \n",
        "* City\n",
        "* Country\n",
        "* Contact_location\n",
        "* Travel_history (Y/N/NA)\n",
        "* Travel_history_entry\n",
        "* Travel_history_start\n",
        "* Travel_history_location\n",
        "* Travel_history_country\n",
        "\n",
        "### Clustering\n",
        "* Age\n",
        "* Symptoms\n",
        "* Hospitalized (Y/N/NA)\n",
        "* Outcome\n",
        "* Genomics_Metadata\n"
      ],
      "metadata": {
        "id": "ph2Z1wzSSSk_"
      }
    },
    {
      "cell_type": "markdown",
      "source": [
        "### Natural Language Processing\n",
        "* `Contact_comment` - drop the column, although this has potential to be used for NLP, at it's current state it doesn't provide too much value for ML applications of it as there is no discernable sentiment and the descriptions can be somewhat derived from other aspects of the data i.e. `status` showing that it's not confirmed indicating that it is under investigation, or index case description being derived from presence of `contact ID` in other cases"
      ],
      "metadata": {
        "id": "gFa34_Irg40R"
      }
    },
    {
      "cell_type": "code",
      "source": [
        "df['Contact_comment'].value_counts()"
      ],
      "metadata": {
        "colab": {
          "base_uri": "https://localhost:8080/"
        },
        "id": "Bn2EE56PX17u",
        "outputId": "ac4be373-4670-4aee-ece8-65d1d17add6c"
      },
      "execution_count": null,
      "outputs": [
        {
          "output_type": "execute_result",
          "data": {
            "text/plain": [
              "Under investigation                                                                          9\n",
              "Thought to be linked to cases in Canary Islands                                              6\n",
              "known exposure to someone with MPX                                                           5\n",
              "under investigation                                                                          5\n",
              "Not related to other Mettmann district cases                                                 3\n",
              "                                                                                            ..\n",
              "Contact of 1266, not family                                                                  1\n",
              "Contact of 1266, not family                                                                  1\n",
              "Partner is negative                                                                          1\n",
              "DOH identified connections between the first 5 Hawaii cases (IDs: 1078, 1562, 2007, 2008)    1\n",
              "Came in contact with a person who tested positive with monkeypox outside the country         1\n",
              "Name: Contact_comment, Length: 61, dtype: int64"
            ]
          },
          "metadata": {},
          "execution_count": 82
        }
      ]
    },
    {
      "cell_type": "code",
      "source": [
        "df.drop('Contact_comment', axis=1, inplace=True)"
      ],
      "metadata": {
        "id": "T2-OHQShhqEn"
      },
      "execution_count": null,
      "outputs": []
    },
    {
      "cell_type": "code",
      "source": [
        "df.columns"
      ],
      "metadata": {
        "colab": {
          "base_uri": "https://localhost:8080/"
        },
        "id": "2KqqMIjMh4ie",
        "outputId": "d37ee3c9-7622-4ba1-9b10-c2f807cd1434"
      },
      "execution_count": null,
      "outputs": [
        {
          "output_type": "execute_result",
          "data": {
            "text/plain": [
              "Index(['ID', 'Status', 'Location', 'City', 'Country', 'Age', 'Gender',\n",
              "       'Date_onset', 'Date_confirmation', 'Symptoms', 'Hospitalised (Y/N/NA)',\n",
              "       'Date_hospitalisation', 'Isolated (Y/N/NA)', 'Date_isolation',\n",
              "       'Outcome', 'Date_death', 'Contact_ID', 'Contact_location',\n",
              "       'Travel_history (Y/N/NA)', 'Travel_history_entry',\n",
              "       'Travel_history_start', 'Travel_history_location',\n",
              "       'Travel_history_country', 'Genomics_Metadata', 'Confirmation_method',\n",
              "       'Date_entry', 'Date_last_modified'],\n",
              "      dtype='object')"
            ]
          },
          "metadata": {},
          "execution_count": 84
        }
      ]
    },
    {
      "cell_type": "markdown",
      "source": [
        "Processed it in the main dataframe since it doesn't necessarily affect other columns"
      ],
      "metadata": {
        "id": "px0EIRavh9GV"
      }
    },
    {
      "cell_type": "markdown",
      "source": [
        "### Timeseries Analysis\n",
        "* Date_onset\n",
        "* Date_confirmation\n",
        "* Date_isolation\n",
        "* Date_death\n",
        "* Date_last_modified - since Date_entry is complete, we can assume that Date_last_modified's default value is the same as Date_entry"
      ],
      "metadata": {
        "id": "T0-z-MISjcg0"
      }
    },
    {
      "cell_type": "code",
      "source": [],
      "metadata": {
        "id": "AOtRfEDJndnQ"
      },
      "execution_count": null,
      "outputs": []
    },
    {
      "cell_type": "code",
      "source": [
        "df['Date_last_modified'].value_counts()"
      ],
      "metadata": {
        "colab": {
          "base_uri": "https://localhost:8080/"
        },
        "id": "M6ptoWXeluSY",
        "outputId": "bcd27b3a-5901-47a5-fcfe-4875f0eebe98"
      },
      "execution_count": null,
      "outputs": [
        {
          "output_type": "execute_result",
          "data": {
            "text/plain": [
              "2022-08-16    2720\n",
              "2022-08-22    2113\n",
              "2022-07-26    2080\n",
              "2022-08-10    1929\n",
              "2022-08-08    1783\n",
              "              ... \n",
              "2022-09-05       1\n",
              "2022-09-04       1\n",
              "2022-09-03       1\n",
              "2022-07-04       1\n",
              "2022-09-09       1\n",
              "Name: Date_last_modified, Length: 108, dtype: int64"
            ]
          },
          "metadata": {},
          "execution_count": 85
        }
      ]
    },
    {
      "cell_type": "code",
      "source": [
        "# df['c'] = df.apply(\n",
        "#     lambda row: row['a']*row['b'] if np.isnan(row['c']) else row['c'],\n",
        "#     axis=1\n",
        "# )\n",
        "\n",
        "#source: https://datascience.stackexchange.com/questions/17769/how-to-fill-missing-value-based-on-other-columns-in-pandas-dataframe\n",
        "\n",
        "df['Date_last_modified'] = df.apply(\n",
        "    lambda row: row['Date_entry'] if pd.isnull(row['Date_last_modified']) else row['Date_last_modified'],\n",
        "    axis = 1\n",
        ")"
      ],
      "metadata": {
        "id": "cK097LDejgt1"
      },
      "execution_count": null,
      "outputs": []
    },
    {
      "cell_type": "code",
      "source": [
        "df['Date_last_modified']"
      ],
      "metadata": {
        "id": "6kJYGAyDlhe7",
        "colab": {
          "base_uri": "https://localhost:8080/"
        },
        "outputId": "cfe0a553-dff1-4839-a5d4-9f9a3c52245c"
      },
      "execution_count": null,
      "outputs": [
        {
          "output_type": "execute_result",
          "data": {
            "text/plain": [
              "0       2022-05-18\n",
              "1       2022-05-18\n",
              "2       2022-05-18\n",
              "3       2022-05-18\n",
              "4       2022-05-18\n",
              "           ...    \n",
              "65772   2022-09-22\n",
              "65773   2022-09-22\n",
              "65774   2022-09-22\n",
              "65775   2022-09-22\n",
              "65776   2022-09-22\n",
              "Name: Date_last_modified, Length: 65777, dtype: datetime64[ns]"
            ]
          },
          "metadata": {},
          "execution_count": 88
        }
      ]
    },
    {
      "cell_type": "markdown",
      "source": [
        "We can see here that there are now 65,777 rows instead of 100+ at the start. Did this in the main df since it can be considered for all ML applications."
      ],
      "metadata": {
        "id": "FqX3kxCinNhw"
      }
    },
    {
      "cell_type": "markdown",
      "source": [
        "### Network Analysis\n",
        "* Contact_ID\n",
        "\n",
        "This column connects multiple rows for Network Analysis so to do it, we must drop the other columns with null values first and then only keep rows that contain values for `Contact_ID` as well as the `ID` that is considered the `Contact_ID`"
      ],
      "metadata": {
        "id": "wHEOa_8riCul"
      }
    },
    {
      "cell_type": "code",
      "source": [
        "df_network_analysis = df.drop(['Location', 'City', 'Country', 'Age', 'Gender', 'Date_onset',\n",
        "        'Date_confirmation', 'Symptoms', 'Hospitalised (Y/N/NA)', \n",
        "        'Date_hospitalisation', 'Isolated (Y/N/NA)', 'Date_isolation',\n",
        "        'Outcome', 'Date_death', 'Contact_location',\n",
        "        'Travel_history (Y/N/NA)', 'Travel_history_entry',\n",
        "        'Travel_history_start', 'Travel_history_location',\n",
        "        'Travel_history_country', 'Genomics_Metadata', 'Confirmation_method',\n",
        "        'Date_last_modified'], \n",
        "        axis = 1\n",
        "        )"
      ],
      "metadata": {
        "id": "kJArqkA3y-iP"
      },
      "execution_count": null,
      "outputs": []
    },
    {
      "cell_type": "code",
      "source": [
        "df_network_analysis"
      ],
      "metadata": {
        "colab": {
          "base_uri": "https://localhost:8080/",
          "height": 424
        },
        "id": "riuvQDJSoJHQ",
        "outputId": "82885b31-eb03-4878-ddc3-d758ff850b6f"
      },
      "execution_count": null,
      "outputs": [
        {
          "output_type": "execute_result",
          "data": {
            "text/plain": [
              "          ID     Status  Contact_ID Date_entry\n",
              "0          1  confirmed         NaN 2022-05-18\n",
              "1          2  confirmed         3.0 2022-05-18\n",
              "2          3  confirmed         2.0 2022-05-18\n",
              "3          4  confirmed         NaN 2022-05-18\n",
              "4          5  confirmed         NaN 2022-05-18\n",
              "...      ...        ...         ...        ...\n",
              "65772  65773  confirmed         NaN 2022-09-22\n",
              "65773  65774  confirmed         NaN 2022-09-22\n",
              "65774  65775  confirmed         NaN 2022-09-22\n",
              "65775  65776  confirmed         NaN 2022-09-22\n",
              "65776  65777  confirmed         NaN 2022-09-22\n",
              "\n",
              "[65777 rows x 4 columns]"
            ],
            "text/html": [
              "\n",
              "  <div id=\"df-bdd31c94-7f4d-4527-b6bb-27e80868c4ac\">\n",
              "    <div class=\"colab-df-container\">\n",
              "      <div>\n",
              "<style scoped>\n",
              "    .dataframe tbody tr th:only-of-type {\n",
              "        vertical-align: middle;\n",
              "    }\n",
              "\n",
              "    .dataframe tbody tr th {\n",
              "        vertical-align: top;\n",
              "    }\n",
              "\n",
              "    .dataframe thead th {\n",
              "        text-align: right;\n",
              "    }\n",
              "</style>\n",
              "<table border=\"1\" class=\"dataframe\">\n",
              "  <thead>\n",
              "    <tr style=\"text-align: right;\">\n",
              "      <th></th>\n",
              "      <th>ID</th>\n",
              "      <th>Status</th>\n",
              "      <th>Contact_ID</th>\n",
              "      <th>Date_entry</th>\n",
              "    </tr>\n",
              "  </thead>\n",
              "  <tbody>\n",
              "    <tr>\n",
              "      <th>0</th>\n",
              "      <td>1</td>\n",
              "      <td>confirmed</td>\n",
              "      <td>NaN</td>\n",
              "      <td>2022-05-18</td>\n",
              "    </tr>\n",
              "    <tr>\n",
              "      <th>1</th>\n",
              "      <td>2</td>\n",
              "      <td>confirmed</td>\n",
              "      <td>3.0</td>\n",
              "      <td>2022-05-18</td>\n",
              "    </tr>\n",
              "    <tr>\n",
              "      <th>2</th>\n",
              "      <td>3</td>\n",
              "      <td>confirmed</td>\n",
              "      <td>2.0</td>\n",
              "      <td>2022-05-18</td>\n",
              "    </tr>\n",
              "    <tr>\n",
              "      <th>3</th>\n",
              "      <td>4</td>\n",
              "      <td>confirmed</td>\n",
              "      <td>NaN</td>\n",
              "      <td>2022-05-18</td>\n",
              "    </tr>\n",
              "    <tr>\n",
              "      <th>4</th>\n",
              "      <td>5</td>\n",
              "      <td>confirmed</td>\n",
              "      <td>NaN</td>\n",
              "      <td>2022-05-18</td>\n",
              "    </tr>\n",
              "    <tr>\n",
              "      <th>...</th>\n",
              "      <td>...</td>\n",
              "      <td>...</td>\n",
              "      <td>...</td>\n",
              "      <td>...</td>\n",
              "    </tr>\n",
              "    <tr>\n",
              "      <th>65772</th>\n",
              "      <td>65773</td>\n",
              "      <td>confirmed</td>\n",
              "      <td>NaN</td>\n",
              "      <td>2022-09-22</td>\n",
              "    </tr>\n",
              "    <tr>\n",
              "      <th>65773</th>\n",
              "      <td>65774</td>\n",
              "      <td>confirmed</td>\n",
              "      <td>NaN</td>\n",
              "      <td>2022-09-22</td>\n",
              "    </tr>\n",
              "    <tr>\n",
              "      <th>65774</th>\n",
              "      <td>65775</td>\n",
              "      <td>confirmed</td>\n",
              "      <td>NaN</td>\n",
              "      <td>2022-09-22</td>\n",
              "    </tr>\n",
              "    <tr>\n",
              "      <th>65775</th>\n",
              "      <td>65776</td>\n",
              "      <td>confirmed</td>\n",
              "      <td>NaN</td>\n",
              "      <td>2022-09-22</td>\n",
              "    </tr>\n",
              "    <tr>\n",
              "      <th>65776</th>\n",
              "      <td>65777</td>\n",
              "      <td>confirmed</td>\n",
              "      <td>NaN</td>\n",
              "      <td>2022-09-22</td>\n",
              "    </tr>\n",
              "  </tbody>\n",
              "</table>\n",
              "<p>65777 rows × 4 columns</p>\n",
              "</div>\n",
              "      <button class=\"colab-df-convert\" onclick=\"convertToInteractive('df-bdd31c94-7f4d-4527-b6bb-27e80868c4ac')\"\n",
              "              title=\"Convert this dataframe to an interactive table.\"\n",
              "              style=\"display:none;\">\n",
              "        \n",
              "  <svg xmlns=\"http://www.w3.org/2000/svg\" height=\"24px\"viewBox=\"0 0 24 24\"\n",
              "       width=\"24px\">\n",
              "    <path d=\"M0 0h24v24H0V0z\" fill=\"none\"/>\n",
              "    <path d=\"M18.56 5.44l.94 2.06.94-2.06 2.06-.94-2.06-.94-.94-2.06-.94 2.06-2.06.94zm-11 1L8.5 8.5l.94-2.06 2.06-.94-2.06-.94L8.5 2.5l-.94 2.06-2.06.94zm10 10l.94 2.06.94-2.06 2.06-.94-2.06-.94-.94-2.06-.94 2.06-2.06.94z\"/><path d=\"M17.41 7.96l-1.37-1.37c-.4-.4-.92-.59-1.43-.59-.52 0-1.04.2-1.43.59L10.3 9.45l-7.72 7.72c-.78.78-.78 2.05 0 2.83L4 21.41c.39.39.9.59 1.41.59.51 0 1.02-.2 1.41-.59l7.78-7.78 2.81-2.81c.8-.78.8-2.07 0-2.86zM5.41 20L4 18.59l7.72-7.72 1.47 1.35L5.41 20z\"/>\n",
              "  </svg>\n",
              "      </button>\n",
              "      \n",
              "  <style>\n",
              "    .colab-df-container {\n",
              "      display:flex;\n",
              "      flex-wrap:wrap;\n",
              "      gap: 12px;\n",
              "    }\n",
              "\n",
              "    .colab-df-convert {\n",
              "      background-color: #E8F0FE;\n",
              "      border: none;\n",
              "      border-radius: 50%;\n",
              "      cursor: pointer;\n",
              "      display: none;\n",
              "      fill: #1967D2;\n",
              "      height: 32px;\n",
              "      padding: 0 0 0 0;\n",
              "      width: 32px;\n",
              "    }\n",
              "\n",
              "    .colab-df-convert:hover {\n",
              "      background-color: #E2EBFA;\n",
              "      box-shadow: 0px 1px 2px rgba(60, 64, 67, 0.3), 0px 1px 3px 1px rgba(60, 64, 67, 0.15);\n",
              "      fill: #174EA6;\n",
              "    }\n",
              "\n",
              "    [theme=dark] .colab-df-convert {\n",
              "      background-color: #3B4455;\n",
              "      fill: #D2E3FC;\n",
              "    }\n",
              "\n",
              "    [theme=dark] .colab-df-convert:hover {\n",
              "      background-color: #434B5C;\n",
              "      box-shadow: 0px 1px 3px 1px rgba(0, 0, 0, 0.15);\n",
              "      filter: drop-shadow(0px 1px 2px rgba(0, 0, 0, 0.3));\n",
              "      fill: #FFFFFF;\n",
              "    }\n",
              "  </style>\n",
              "\n",
              "      <script>\n",
              "        const buttonEl =\n",
              "          document.querySelector('#df-bdd31c94-7f4d-4527-b6bb-27e80868c4ac button.colab-df-convert');\n",
              "        buttonEl.style.display =\n",
              "          google.colab.kernel.accessAllowed ? 'block' : 'none';\n",
              "\n",
              "        async function convertToInteractive(key) {\n",
              "          const element = document.querySelector('#df-bdd31c94-7f4d-4527-b6bb-27e80868c4ac');\n",
              "          const dataTable =\n",
              "            await google.colab.kernel.invokeFunction('convertToInteractive',\n",
              "                                                     [key], {});\n",
              "          if (!dataTable) return;\n",
              "\n",
              "          const docLinkHtml = 'Like what you see? Visit the ' +\n",
              "            '<a target=\"_blank\" href=https://colab.research.google.com/notebooks/data_table.ipynb>data table notebook</a>'\n",
              "            + ' to learn more about interactive tables.';\n",
              "          element.innerHTML = '';\n",
              "          dataTable['output_type'] = 'display_data';\n",
              "          await google.colab.output.renderOutput(dataTable, element);\n",
              "          const docLink = document.createElement('div');\n",
              "          docLink.innerHTML = docLinkHtml;\n",
              "          element.appendChild(docLink);\n",
              "        }\n",
              "      </script>\n",
              "    </div>\n",
              "  </div>\n",
              "  "
            ]
          },
          "metadata": {},
          "execution_count": 91
        }
      ]
    },
    {
      "cell_type": "code",
      "source": [
        "df_network_analysis = df_network_analysis[pd.notnull(df_network_analysis['Contact_ID'])]"
      ],
      "metadata": {
        "id": "ViXImj6HoQeC"
      },
      "execution_count": 98,
      "outputs": []
    },
    {
      "cell_type": "code",
      "source": [
        "df_network_analysis"
      ],
      "metadata": {
        "colab": {
          "base_uri": "https://localhost:8080/",
          "height": 896
        },
        "id": "fmPEjL2VpaX-",
        "outputId": "4202d83b-1171-4b09-91cb-5974af1bab55"
      },
      "execution_count": 99,
      "outputs": [
        {
          "output_type": "execute_result",
          "data": {
            "text/plain": [
              "          ID     Status  Contact_ID Date_entry\n",
              "1          2  confirmed         3.0 2022-05-18\n",
              "2          3  confirmed         2.0 2022-05-18\n",
              "98        99  confirmed       100.0 2022-05-19\n",
              "99       100  confirmed        99.0 2022-05-19\n",
              "1077    1078  confirmed      1562.0 2022-06-03\n",
              "1103    1104  confirmed       996.0 2022-06-03\n",
              "1123    1124  confirmed      1125.0 2022-06-04\n",
              "1124    1125  confirmed      1124.0 2022-06-04\n",
              "1561    1562  confirmed      1790.0 2022-06-08\n",
              "1707    1708  confirmed      1266.0 2022-06-10\n",
              "1708    1709  confirmed      1266.0 2022-06-10\n",
              "1789    1790  confirmed      2007.0 2022-06-10\n",
              "1986    1987  confirmed      1266.0 2022-06-14\n",
              "2006    2007  confirmed      2008.0 2022-06-14\n",
              "2007    2008  confirmed      1078.0 2022-06-14\n",
              "2360    2361  confirmed      2362.0 2022-06-16\n",
              "2361    2362  confirmed      2363.0 2022-06-16\n",
              "4515    4516  confirmed      1078.0 2022-06-24\n",
              "4658    4659  confirmed      4658.0 2022-06-27\n",
              "5224    5225  confirmed      4542.0 2022-06-29\n",
              "5225    5226  confirmed      4542.0 2022-06-29\n",
              "20262  20263  confirmed     15790.0 2022-07-27\n",
              "20264  20265  suspected     15790.0 2022-07-27\n",
              "20265  20266  suspected     20264.0 2022-07-27\n",
              "23617  23618  confirmed     23619.0 2022-08-01\n",
              "23618  23619  confirmed     23618.0 2022-08-01\n",
              "27577  27578  confirmed     25755.0 2022-08-05"
            ],
            "text/html": [
              "\n",
              "  <div id=\"df-932a42a4-ce88-436e-bbb8-cb24d5a7249d\">\n",
              "    <div class=\"colab-df-container\">\n",
              "      <div>\n",
              "<style scoped>\n",
              "    .dataframe tbody tr th:only-of-type {\n",
              "        vertical-align: middle;\n",
              "    }\n",
              "\n",
              "    .dataframe tbody tr th {\n",
              "        vertical-align: top;\n",
              "    }\n",
              "\n",
              "    .dataframe thead th {\n",
              "        text-align: right;\n",
              "    }\n",
              "</style>\n",
              "<table border=\"1\" class=\"dataframe\">\n",
              "  <thead>\n",
              "    <tr style=\"text-align: right;\">\n",
              "      <th></th>\n",
              "      <th>ID</th>\n",
              "      <th>Status</th>\n",
              "      <th>Contact_ID</th>\n",
              "      <th>Date_entry</th>\n",
              "    </tr>\n",
              "  </thead>\n",
              "  <tbody>\n",
              "    <tr>\n",
              "      <th>1</th>\n",
              "      <td>2</td>\n",
              "      <td>confirmed</td>\n",
              "      <td>3.0</td>\n",
              "      <td>2022-05-18</td>\n",
              "    </tr>\n",
              "    <tr>\n",
              "      <th>2</th>\n",
              "      <td>3</td>\n",
              "      <td>confirmed</td>\n",
              "      <td>2.0</td>\n",
              "      <td>2022-05-18</td>\n",
              "    </tr>\n",
              "    <tr>\n",
              "      <th>98</th>\n",
              "      <td>99</td>\n",
              "      <td>confirmed</td>\n",
              "      <td>100.0</td>\n",
              "      <td>2022-05-19</td>\n",
              "    </tr>\n",
              "    <tr>\n",
              "      <th>99</th>\n",
              "      <td>100</td>\n",
              "      <td>confirmed</td>\n",
              "      <td>99.0</td>\n",
              "      <td>2022-05-19</td>\n",
              "    </tr>\n",
              "    <tr>\n",
              "      <th>1077</th>\n",
              "      <td>1078</td>\n",
              "      <td>confirmed</td>\n",
              "      <td>1562.0</td>\n",
              "      <td>2022-06-03</td>\n",
              "    </tr>\n",
              "    <tr>\n",
              "      <th>1103</th>\n",
              "      <td>1104</td>\n",
              "      <td>confirmed</td>\n",
              "      <td>996.0</td>\n",
              "      <td>2022-06-03</td>\n",
              "    </tr>\n",
              "    <tr>\n",
              "      <th>1123</th>\n",
              "      <td>1124</td>\n",
              "      <td>confirmed</td>\n",
              "      <td>1125.0</td>\n",
              "      <td>2022-06-04</td>\n",
              "    </tr>\n",
              "    <tr>\n",
              "      <th>1124</th>\n",
              "      <td>1125</td>\n",
              "      <td>confirmed</td>\n",
              "      <td>1124.0</td>\n",
              "      <td>2022-06-04</td>\n",
              "    </tr>\n",
              "    <tr>\n",
              "      <th>1561</th>\n",
              "      <td>1562</td>\n",
              "      <td>confirmed</td>\n",
              "      <td>1790.0</td>\n",
              "      <td>2022-06-08</td>\n",
              "    </tr>\n",
              "    <tr>\n",
              "      <th>1707</th>\n",
              "      <td>1708</td>\n",
              "      <td>confirmed</td>\n",
              "      <td>1266.0</td>\n",
              "      <td>2022-06-10</td>\n",
              "    </tr>\n",
              "    <tr>\n",
              "      <th>1708</th>\n",
              "      <td>1709</td>\n",
              "      <td>confirmed</td>\n",
              "      <td>1266.0</td>\n",
              "      <td>2022-06-10</td>\n",
              "    </tr>\n",
              "    <tr>\n",
              "      <th>1789</th>\n",
              "      <td>1790</td>\n",
              "      <td>confirmed</td>\n",
              "      <td>2007.0</td>\n",
              "      <td>2022-06-10</td>\n",
              "    </tr>\n",
              "    <tr>\n",
              "      <th>1986</th>\n",
              "      <td>1987</td>\n",
              "      <td>confirmed</td>\n",
              "      <td>1266.0</td>\n",
              "      <td>2022-06-14</td>\n",
              "    </tr>\n",
              "    <tr>\n",
              "      <th>2006</th>\n",
              "      <td>2007</td>\n",
              "      <td>confirmed</td>\n",
              "      <td>2008.0</td>\n",
              "      <td>2022-06-14</td>\n",
              "    </tr>\n",
              "    <tr>\n",
              "      <th>2007</th>\n",
              "      <td>2008</td>\n",
              "      <td>confirmed</td>\n",
              "      <td>1078.0</td>\n",
              "      <td>2022-06-14</td>\n",
              "    </tr>\n",
              "    <tr>\n",
              "      <th>2360</th>\n",
              "      <td>2361</td>\n",
              "      <td>confirmed</td>\n",
              "      <td>2362.0</td>\n",
              "      <td>2022-06-16</td>\n",
              "    </tr>\n",
              "    <tr>\n",
              "      <th>2361</th>\n",
              "      <td>2362</td>\n",
              "      <td>confirmed</td>\n",
              "      <td>2363.0</td>\n",
              "      <td>2022-06-16</td>\n",
              "    </tr>\n",
              "    <tr>\n",
              "      <th>4515</th>\n",
              "      <td>4516</td>\n",
              "      <td>confirmed</td>\n",
              "      <td>1078.0</td>\n",
              "      <td>2022-06-24</td>\n",
              "    </tr>\n",
              "    <tr>\n",
              "      <th>4658</th>\n",
              "      <td>4659</td>\n",
              "      <td>confirmed</td>\n",
              "      <td>4658.0</td>\n",
              "      <td>2022-06-27</td>\n",
              "    </tr>\n",
              "    <tr>\n",
              "      <th>5224</th>\n",
              "      <td>5225</td>\n",
              "      <td>confirmed</td>\n",
              "      <td>4542.0</td>\n",
              "      <td>2022-06-29</td>\n",
              "    </tr>\n",
              "    <tr>\n",
              "      <th>5225</th>\n",
              "      <td>5226</td>\n",
              "      <td>confirmed</td>\n",
              "      <td>4542.0</td>\n",
              "      <td>2022-06-29</td>\n",
              "    </tr>\n",
              "    <tr>\n",
              "      <th>20262</th>\n",
              "      <td>20263</td>\n",
              "      <td>confirmed</td>\n",
              "      <td>15790.0</td>\n",
              "      <td>2022-07-27</td>\n",
              "    </tr>\n",
              "    <tr>\n",
              "      <th>20264</th>\n",
              "      <td>20265</td>\n",
              "      <td>suspected</td>\n",
              "      <td>15790.0</td>\n",
              "      <td>2022-07-27</td>\n",
              "    </tr>\n",
              "    <tr>\n",
              "      <th>20265</th>\n",
              "      <td>20266</td>\n",
              "      <td>suspected</td>\n",
              "      <td>20264.0</td>\n",
              "      <td>2022-07-27</td>\n",
              "    </tr>\n",
              "    <tr>\n",
              "      <th>23617</th>\n",
              "      <td>23618</td>\n",
              "      <td>confirmed</td>\n",
              "      <td>23619.0</td>\n",
              "      <td>2022-08-01</td>\n",
              "    </tr>\n",
              "    <tr>\n",
              "      <th>23618</th>\n",
              "      <td>23619</td>\n",
              "      <td>confirmed</td>\n",
              "      <td>23618.0</td>\n",
              "      <td>2022-08-01</td>\n",
              "    </tr>\n",
              "    <tr>\n",
              "      <th>27577</th>\n",
              "      <td>27578</td>\n",
              "      <td>confirmed</td>\n",
              "      <td>25755.0</td>\n",
              "      <td>2022-08-05</td>\n",
              "    </tr>\n",
              "  </tbody>\n",
              "</table>\n",
              "</div>\n",
              "      <button class=\"colab-df-convert\" onclick=\"convertToInteractive('df-932a42a4-ce88-436e-bbb8-cb24d5a7249d')\"\n",
              "              title=\"Convert this dataframe to an interactive table.\"\n",
              "              style=\"display:none;\">\n",
              "        \n",
              "  <svg xmlns=\"http://www.w3.org/2000/svg\" height=\"24px\"viewBox=\"0 0 24 24\"\n",
              "       width=\"24px\">\n",
              "    <path d=\"M0 0h24v24H0V0z\" fill=\"none\"/>\n",
              "    <path d=\"M18.56 5.44l.94 2.06.94-2.06 2.06-.94-2.06-.94-.94-2.06-.94 2.06-2.06.94zm-11 1L8.5 8.5l.94-2.06 2.06-.94-2.06-.94L8.5 2.5l-.94 2.06-2.06.94zm10 10l.94 2.06.94-2.06 2.06-.94-2.06-.94-.94-2.06-.94 2.06-2.06.94z\"/><path d=\"M17.41 7.96l-1.37-1.37c-.4-.4-.92-.59-1.43-.59-.52 0-1.04.2-1.43.59L10.3 9.45l-7.72 7.72c-.78.78-.78 2.05 0 2.83L4 21.41c.39.39.9.59 1.41.59.51 0 1.02-.2 1.41-.59l7.78-7.78 2.81-2.81c.8-.78.8-2.07 0-2.86zM5.41 20L4 18.59l7.72-7.72 1.47 1.35L5.41 20z\"/>\n",
              "  </svg>\n",
              "      </button>\n",
              "      \n",
              "  <style>\n",
              "    .colab-df-container {\n",
              "      display:flex;\n",
              "      flex-wrap:wrap;\n",
              "      gap: 12px;\n",
              "    }\n",
              "\n",
              "    .colab-df-convert {\n",
              "      background-color: #E8F0FE;\n",
              "      border: none;\n",
              "      border-radius: 50%;\n",
              "      cursor: pointer;\n",
              "      display: none;\n",
              "      fill: #1967D2;\n",
              "      height: 32px;\n",
              "      padding: 0 0 0 0;\n",
              "      width: 32px;\n",
              "    }\n",
              "\n",
              "    .colab-df-convert:hover {\n",
              "      background-color: #E2EBFA;\n",
              "      box-shadow: 0px 1px 2px rgba(60, 64, 67, 0.3), 0px 1px 3px 1px rgba(60, 64, 67, 0.15);\n",
              "      fill: #174EA6;\n",
              "    }\n",
              "\n",
              "    [theme=dark] .colab-df-convert {\n",
              "      background-color: #3B4455;\n",
              "      fill: #D2E3FC;\n",
              "    }\n",
              "\n",
              "    [theme=dark] .colab-df-convert:hover {\n",
              "      background-color: #434B5C;\n",
              "      box-shadow: 0px 1px 3px 1px rgba(0, 0, 0, 0.15);\n",
              "      filter: drop-shadow(0px 1px 2px rgba(0, 0, 0, 0.3));\n",
              "      fill: #FFFFFF;\n",
              "    }\n",
              "  </style>\n",
              "\n",
              "      <script>\n",
              "        const buttonEl =\n",
              "          document.querySelector('#df-932a42a4-ce88-436e-bbb8-cb24d5a7249d button.colab-df-convert');\n",
              "        buttonEl.style.display =\n",
              "          google.colab.kernel.accessAllowed ? 'block' : 'none';\n",
              "\n",
              "        async function convertToInteractive(key) {\n",
              "          const element = document.querySelector('#df-932a42a4-ce88-436e-bbb8-cb24d5a7249d');\n",
              "          const dataTable =\n",
              "            await google.colab.kernel.invokeFunction('convertToInteractive',\n",
              "                                                     [key], {});\n",
              "          if (!dataTable) return;\n",
              "\n",
              "          const docLinkHtml = 'Like what you see? Visit the ' +\n",
              "            '<a target=\"_blank\" href=https://colab.research.google.com/notebooks/data_table.ipynb>data table notebook</a>'\n",
              "            + ' to learn more about interactive tables.';\n",
              "          element.innerHTML = '';\n",
              "          dataTable['output_type'] = 'display_data';\n",
              "          await google.colab.output.renderOutput(dataTable, element);\n",
              "          const docLink = document.createElement('div');\n",
              "          docLink.innerHTML = docLinkHtml;\n",
              "          element.appendChild(docLink);\n",
              "        }\n",
              "      </script>\n",
              "    </div>\n",
              "  </div>\n",
              "  "
            ]
          },
          "metadata": {},
          "execution_count": 99
        }
      ]
    },
    {
      "cell_type": "markdown",
      "source": [
        "# Sources\n",
        "\n",
        "* https://datascience.stackexchange.com/questions/17769/how-to-fill-missing-value-based-on-other-columns-in-pandas-dataframe\n",
        "\n",
        "\n"
      ],
      "metadata": {
        "id": "gAlhPsKvk-4d"
      }
    },
    {
      "cell_type": "code",
      "source": [],
      "metadata": {
        "id": "Vq92EYRslCkt"
      },
      "execution_count": null,
      "outputs": []
    }
  ]
}